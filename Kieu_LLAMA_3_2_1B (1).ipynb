{
  "cells": [
    {
      "cell_type": "markdown",
      "source": [
        "![](https://storage.googleapis.com/mle-courses-prod/users/61b6fa1ba83a7e37c8309756/private-files/29847d70-c729-11ef-99fc-e9ac20f73f15-LLMs__1_.png)"
      ],
      "metadata": {
        "id": "C-w_NL5pzlse"
      },
      "id": "C-w_NL5pzlse"
    },
    {
      "cell_type": "code",
      "execution_count": 1,
      "id": "cb0152ca-39d2-45ab-a6b8-26eebe55a8db",
      "metadata": {
        "colab": {
          "base_uri": "https://localhost:8080/"
        },
        "id": "cb0152ca-39d2-45ab-a6b8-26eebe55a8db",
        "outputId": "f474604c-84e0-43d5-84b8-ebf4fdc776a7"
      },
      "outputs": [
        {
          "output_type": "stream",
          "name": "stdout",
          "text": [
            "Requirement already satisfied: transformers==4.43.1 in /usr/local/lib/python3.11/dist-packages (4.43.1)\n",
            "Requirement already satisfied: filelock in /usr/local/lib/python3.11/dist-packages (from transformers==4.43.1) (3.18.0)\n",
            "Requirement already satisfied: huggingface-hub<1.0,>=0.23.2 in /usr/local/lib/python3.11/dist-packages (from transformers==4.43.1) (0.30.2)\n",
            "Requirement already satisfied: numpy>=1.17 in /usr/local/lib/python3.11/dist-packages (from transformers==4.43.1) (2.0.2)\n",
            "Requirement already satisfied: packaging>=20.0 in /usr/local/lib/python3.11/dist-packages (from transformers==4.43.1) (24.2)\n",
            "Requirement already satisfied: pyyaml>=5.1 in /usr/local/lib/python3.11/dist-packages (from transformers==4.43.1) (6.0.2)\n",
            "Requirement already satisfied: regex!=2019.12.17 in /usr/local/lib/python3.11/dist-packages (from transformers==4.43.1) (2024.11.6)\n",
            "Requirement already satisfied: requests in /usr/local/lib/python3.11/dist-packages (from transformers==4.43.1) (2.32.3)\n",
            "Requirement already satisfied: tokenizers<0.20,>=0.19 in /usr/local/lib/python3.11/dist-packages (from transformers==4.43.1) (0.19.1)\n",
            "Requirement already satisfied: safetensors>=0.4.1 in /usr/local/lib/python3.11/dist-packages (from transformers==4.43.1) (0.5.3)\n",
            "Requirement already satisfied: tqdm>=4.27 in /usr/local/lib/python3.11/dist-packages (from transformers==4.43.1) (4.67.1)\n",
            "Requirement already satisfied: fsspec>=2023.5.0 in /usr/local/lib/python3.11/dist-packages (from huggingface-hub<1.0,>=0.23.2->transformers==4.43.1) (2025.3.0)\n",
            "Requirement already satisfied: typing-extensions>=3.7.4.3 in /usr/local/lib/python3.11/dist-packages (from huggingface-hub<1.0,>=0.23.2->transformers==4.43.1) (4.13.2)\n",
            "Requirement already satisfied: charset-normalizer<4,>=2 in /usr/local/lib/python3.11/dist-packages (from requests->transformers==4.43.1) (3.4.1)\n",
            "Requirement already satisfied: idna<4,>=2.5 in /usr/local/lib/python3.11/dist-packages (from requests->transformers==4.43.1) (3.10)\n",
            "Requirement already satisfied: urllib3<3,>=1.21.1 in /usr/local/lib/python3.11/dist-packages (from requests->transformers==4.43.1) (2.4.0)\n",
            "Requirement already satisfied: certifi>=2017.4.17 in /usr/local/lib/python3.11/dist-packages (from requests->transformers==4.43.1) (2025.4.26)\n"
          ]
        }
      ],
      "source": [
        "!pip install transformers==4.43.1"
      ]
    },
    {
      "cell_type": "code",
      "execution_count": 2,
      "id": "6094750d-5660-400a-9881-31146485e073",
      "metadata": {
        "colab": {
          "base_uri": "https://localhost:8080/"
        },
        "id": "6094750d-5660-400a-9881-31146485e073",
        "outputId": "7663aa9c-a170-4901-de1b-0d4d511c41d1"
      },
      "outputs": [
        {
          "output_type": "stream",
          "name": "stdout",
          "text": [
            "--2025-05-08 04:18:54--  https://gist.githubusercontent.com/khacanh/4c4662fa226db87a4664dfc2f70bc63e/raw/5d8a1d890c73a1e92e6898137db28f3dc0676975/kieu.txt\n",
            "Resolving gist.githubusercontent.com (gist.githubusercontent.com)... 185.199.110.133, 185.199.108.133, 185.199.111.133, ...\n",
            "Connecting to gist.githubusercontent.com (gist.githubusercontent.com)|185.199.110.133|:443... connected.\n",
            "HTTP request sent, awaiting response... 200 OK\n",
            "Length: 135832 (133K) [text/plain]\n",
            "Saving to: ‘./kieu.txt’\n",
            "\n",
            "./kieu.txt          100%[===================>] 132.65K  --.-KB/s    in 0.02s   \n",
            "\n",
            "2025-05-08 04:18:54 (5.34 MB/s) - ‘./kieu.txt’ saved [135832/135832]\n",
            "\n"
          ]
        }
      ],
      "source": [
        "!wget --no-check-certificate \\\n",
        "    https://gist.githubusercontent.com/khacanh/4c4662fa226db87a4664dfc2f70bc63e/raw/5d8a1d890c73a1e92e6898137db28f3dc0676975/kieu.txt \\\n",
        "    -O ./kieu.txt"
      ]
    },
    {
      "cell_type": "code",
      "source": [
        "from google.colab import drive\n",
        "drive.mount('/content/drive')"
      ],
      "metadata": {
        "colab": {
          "base_uri": "https://localhost:8080/"
        },
        "id": "ZVYfuwTa-gbh",
        "outputId": "c72f86be-f5f0-40af-eacb-e59b71800efd"
      },
      "id": "ZVYfuwTa-gbh",
      "execution_count": 3,
      "outputs": [
        {
          "output_type": "stream",
          "name": "stdout",
          "text": [
            "Drive already mounted at /content/drive; to attempt to forcibly remount, call drive.mount(\"/content/drive\", force_remount=True).\n"
          ]
        }
      ]
    },
    {
      "cell_type": "code",
      "execution_count": 4,
      "id": "d7358f33-c30d-425a-bd20-030eebf5703f",
      "metadata": {
        "id": "d7358f33-c30d-425a-bd20-030eebf5703f"
      },
      "outputs": [],
      "source": [
        "corpus = []\n",
        "f = open(\"kieu.txt\", \"r\")\n",
        "for line in f:\n",
        "  corpus.append(line)"
      ]
    },
    {
      "cell_type": "markdown",
      "source": [
        "### Xử lý dữ liệu"
      ],
      "metadata": {
        "id": "9l0FJGs7nzv0"
      },
      "id": "9l0FJGs7nzv0"
    },
    {
      "cell_type": "code",
      "execution_count": 5,
      "id": "f71de951-9ff5-439b-bc84-12ec951c8f0e",
      "metadata": {
        "colab": {
          "base_uri": "https://localhost:8080/"
        },
        "id": "f71de951-9ff5-439b-bc84-12ec951c8f0e",
        "outputId": "825bd06f-acbf-4354-8428-60fda97d9ca6"
      },
      "outputs": [
        {
          "output_type": "execute_result",
          "data": {
            "text/plain": [
              "['Trăm năm trong cõi người ta,\\n',\n",
              " 'Chữ tài chữ mệnh khéo là ghét nhau.\\n',\n",
              " 'Trải qua một cuộc bể dâu,\\n',\n",
              " 'Những điều trông thấy mà đau đớn lòng.\\n',\n",
              " 'Lạ gì bỉ sắc tư phong,\\n',\n",
              " 'Trời xanh quen thói má hồng đánh ghen.\\n',\n",
              " 'Cảo thơm lần giỞ trước đèn,\\n',\n",
              " 'Phong tình có lục còn truyền sử xanh.\\n',\n",
              " 'Rằng năm Gia Tĩnh triều Minh,\\n',\n",
              " 'Bốn phương phẳng lặng, hai kinh vững vàng.\\n']"
            ]
          },
          "metadata": {},
          "execution_count": 5
        }
      ],
      "source": [
        "corpus[:10]"
      ]
    },
    {
      "cell_type": "code",
      "execution_count": 6,
      "id": "159f559b-99c8-4a42-ad3c-c617d7ffd9d6",
      "metadata": {
        "id": "159f559b-99c8-4a42-ad3c-c617d7ffd9d6"
      },
      "outputs": [],
      "source": [
        "model_name = \"meta-llama/Llama-3.2-1B\""
      ]
    },
    {
      "cell_type": "code",
      "source": [
        "!pip install datasets"
      ],
      "metadata": {
        "colab": {
          "base_uri": "https://localhost:8080/"
        },
        "id": "CBq2-MjylU9f",
        "outputId": "dac8c4fd-aaa3-4fd4-ec09-534c9c2004fb"
      },
      "id": "CBq2-MjylU9f",
      "execution_count": 7,
      "outputs": [
        {
          "output_type": "stream",
          "name": "stdout",
          "text": [
            "Requirement already satisfied: datasets in /usr/local/lib/python3.11/dist-packages (3.6.0)\n",
            "Requirement already satisfied: filelock in /usr/local/lib/python3.11/dist-packages (from datasets) (3.18.0)\n",
            "Requirement already satisfied: numpy>=1.17 in /usr/local/lib/python3.11/dist-packages (from datasets) (2.0.2)\n",
            "Requirement already satisfied: pyarrow>=15.0.0 in /usr/local/lib/python3.11/dist-packages (from datasets) (18.1.0)\n",
            "Requirement already satisfied: dill<0.3.9,>=0.3.0 in /usr/local/lib/python3.11/dist-packages (from datasets) (0.3.8)\n",
            "Requirement already satisfied: pandas in /usr/local/lib/python3.11/dist-packages (from datasets) (2.2.2)\n",
            "Requirement already satisfied: requests>=2.32.2 in /usr/local/lib/python3.11/dist-packages (from datasets) (2.32.3)\n",
            "Requirement already satisfied: tqdm>=4.66.3 in /usr/local/lib/python3.11/dist-packages (from datasets) (4.67.1)\n",
            "Requirement already satisfied: xxhash in /usr/local/lib/python3.11/dist-packages (from datasets) (3.5.0)\n",
            "Requirement already satisfied: multiprocess<0.70.17 in /usr/local/lib/python3.11/dist-packages (from datasets) (0.70.16)\n",
            "Requirement already satisfied: fsspec<=2025.3.0,>=2023.1.0 in /usr/local/lib/python3.11/dist-packages (from fsspec[http]<=2025.3.0,>=2023.1.0->datasets) (2025.3.0)\n",
            "Requirement already satisfied: huggingface-hub>=0.24.0 in /usr/local/lib/python3.11/dist-packages (from datasets) (0.30.2)\n",
            "Requirement already satisfied: packaging in /usr/local/lib/python3.11/dist-packages (from datasets) (24.2)\n",
            "Requirement already satisfied: pyyaml>=5.1 in /usr/local/lib/python3.11/dist-packages (from datasets) (6.0.2)\n",
            "Requirement already satisfied: aiohttp!=4.0.0a0,!=4.0.0a1 in /usr/local/lib/python3.11/dist-packages (from fsspec[http]<=2025.3.0,>=2023.1.0->datasets) (3.11.15)\n",
            "Requirement already satisfied: typing-extensions>=3.7.4.3 in /usr/local/lib/python3.11/dist-packages (from huggingface-hub>=0.24.0->datasets) (4.13.2)\n",
            "Requirement already satisfied: charset-normalizer<4,>=2 in /usr/local/lib/python3.11/dist-packages (from requests>=2.32.2->datasets) (3.4.1)\n",
            "Requirement already satisfied: idna<4,>=2.5 in /usr/local/lib/python3.11/dist-packages (from requests>=2.32.2->datasets) (3.10)\n",
            "Requirement already satisfied: urllib3<3,>=1.21.1 in /usr/local/lib/python3.11/dist-packages (from requests>=2.32.2->datasets) (2.4.0)\n",
            "Requirement already satisfied: certifi>=2017.4.17 in /usr/local/lib/python3.11/dist-packages (from requests>=2.32.2->datasets) (2025.4.26)\n",
            "Requirement already satisfied: python-dateutil>=2.8.2 in /usr/local/lib/python3.11/dist-packages (from pandas->datasets) (2.9.0.post0)\n",
            "Requirement already satisfied: pytz>=2020.1 in /usr/local/lib/python3.11/dist-packages (from pandas->datasets) (2025.2)\n",
            "Requirement already satisfied: tzdata>=2022.7 in /usr/local/lib/python3.11/dist-packages (from pandas->datasets) (2025.2)\n",
            "Requirement already satisfied: aiohappyeyeballs>=2.3.0 in /usr/local/lib/python3.11/dist-packages (from aiohttp!=4.0.0a0,!=4.0.0a1->fsspec[http]<=2025.3.0,>=2023.1.0->datasets) (2.6.1)\n",
            "Requirement already satisfied: aiosignal>=1.1.2 in /usr/local/lib/python3.11/dist-packages (from aiohttp!=4.0.0a0,!=4.0.0a1->fsspec[http]<=2025.3.0,>=2023.1.0->datasets) (1.3.2)\n",
            "Requirement already satisfied: attrs>=17.3.0 in /usr/local/lib/python3.11/dist-packages (from aiohttp!=4.0.0a0,!=4.0.0a1->fsspec[http]<=2025.3.0,>=2023.1.0->datasets) (25.3.0)\n",
            "Requirement already satisfied: frozenlist>=1.1.1 in /usr/local/lib/python3.11/dist-packages (from aiohttp!=4.0.0a0,!=4.0.0a1->fsspec[http]<=2025.3.0,>=2023.1.0->datasets) (1.6.0)\n",
            "Requirement already satisfied: multidict<7.0,>=4.5 in /usr/local/lib/python3.11/dist-packages (from aiohttp!=4.0.0a0,!=4.0.0a1->fsspec[http]<=2025.3.0,>=2023.1.0->datasets) (6.4.3)\n",
            "Requirement already satisfied: propcache>=0.2.0 in /usr/local/lib/python3.11/dist-packages (from aiohttp!=4.0.0a0,!=4.0.0a1->fsspec[http]<=2025.3.0,>=2023.1.0->datasets) (0.3.1)\n",
            "Requirement already satisfied: yarl<2.0,>=1.17.0 in /usr/local/lib/python3.11/dist-packages (from aiohttp!=4.0.0a0,!=4.0.0a1->fsspec[http]<=2025.3.0,>=2023.1.0->datasets) (1.20.0)\n",
            "Requirement already satisfied: six>=1.5 in /usr/local/lib/python3.11/dist-packages (from python-dateutil>=2.8.2->pandas->datasets) (1.17.0)\n"
          ]
        }
      ]
    },
    {
      "cell_type": "markdown",
      "source": [
        "### TODO 1: Lập trình hàm chia mẫu"
      ],
      "metadata": {
        "id": "ADpcBmyNn4vR"
      },
      "id": "ADpcBmyNn4vR"
    },
    {
      "cell_type": "markdown",
      "source": [
        "![](https://storage.googleapis.com/mle-courses-prod/users/61b6fa1ba83a7e37c8309756/private-files/f1faa3a0-c72f-11ef-a3aa-4b5f419a5062-Screen_Shot_2024_12_31_at_11.30.17.png)"
      ],
      "metadata": {
        "id": "UuWUhNuI-txA"
      },
      "id": "UuWUhNuI-txA"
    },
    {
      "cell_type": "code",
      "source": [
        "def group_sentences(data, group_size=4, stride=2):\n",
        "    \"\"\"\n",
        "    Nhóm các câu thành các mẫu chồng lên nhau có kích thước xác định với khoảng cách chỉ định.\n",
        "\n",
        "    Tham số:\n",
        "        data (list of str): Danh sách các câu.\n",
        "        group_size (int): Số lượng câu trong mỗi nhóm.\n",
        "        stride (int): Bước nhảy cho các nhóm.\n",
        "\n",
        "    Kết quả trả về:\n",
        "        list of str: Danh sách các câu đã được nhóm, nối bằng ký tự xuống dòng.\n",
        "    \"\"\"\n",
        "    grouped_data = []\n",
        "    for i in range( 0 , len(data) , stride):\n",
        "      if i + group_size <= len(data):\n",
        "        tmp  = \"\\n\".join(data[i:i+ group_size]) + \"\\n\"\n",
        "        grouped_data.append(tmp)\n",
        "    return grouped_data\n"
      ],
      "metadata": {
        "id": "bqp0p1Mcm9Ne"
      },
      "id": "bqp0p1Mcm9Ne",
      "execution_count": 8,
      "outputs": []
    },
    {
      "cell_type": "code",
      "execution_count": 9,
      "id": "5d73caf9-407f-4262-a9df-3385e37a4e3c",
      "metadata": {
        "id": "5d73caf9-407f-4262-a9df-3385e37a4e3c"
      },
      "outputs": [],
      "source": [
        "from datasets import Dataset, DatasetDict\n",
        "\n",
        "# Group sentences into overlapping samples of 4 with a stride of 2\n",
        "grouped_sentences = group_sentences(corpus, 6, 1)\n",
        "\n",
        "# Split into train and validation datasets\n",
        "split_index = int(0.8 * len(grouped_sentences))\n",
        "dataset = DatasetDict({\n",
        "    \"train\": Dataset.from_dict({\"text\": grouped_sentences[:split_index]}),\n",
        "    \"validation\": Dataset.from_dict({\"text\": grouped_sentences[split_index:]})\n",
        "})\n"
      ]
    },
    {
      "cell_type": "code",
      "source": [
        "print(dataset['train'][0]['text'])"
      ],
      "metadata": {
        "colab": {
          "base_uri": "https://localhost:8080/"
        },
        "id": "2y0KFVNxAZHA",
        "outputId": "bd329698-101b-461f-c885-200fccd527f0"
      },
      "id": "2y0KFVNxAZHA",
      "execution_count": 10,
      "outputs": [
        {
          "output_type": "stream",
          "name": "stdout",
          "text": [
            "Trăm năm trong cõi người ta,\n",
            "\n",
            "Chữ tài chữ mệnh khéo là ghét nhau.\n",
            "\n",
            "Trải qua một cuộc bể dâu,\n",
            "\n",
            "Những điều trông thấy mà đau đớn lòng.\n",
            "\n",
            "Lạ gì bỉ sắc tư phong,\n",
            "\n",
            "Trời xanh quen thói má hồng đánh ghen.\n",
            "\n",
            "\n"
          ]
        }
      ]
    },
    {
      "cell_type": "markdown",
      "source": [
        "Test code"
      ],
      "metadata": {
        "id": "4PaW2TTimyr4"
      },
      "id": "4PaW2TTimyr4"
    },
    {
      "cell_type": "code",
      "source": [
        "import unittest\n",
        "\n",
        "def test_valid_input():\n",
        "    \"\"\"Test with valid input data.\"\"\"\n",
        "    data = [\"A\", \"B\", \"C\", \"D\", \"E\", \"F\"]\n",
        "    result = group_sentences(data, group_size=3, stride=2)\n",
        "    expected = [\"A\\nB\\nC\\n\", \"C\\nD\\nE\\n\"]\n",
        "    assert result == expected, f\"Expected {expected}, but got {result}\"\n",
        "\n",
        "def test_invalid_data_type():\n",
        "    \"\"\"Test with non-list data input.\"\"\"\n",
        "    try:\n",
        "        group_sentences(\"Invalid input\")\n",
        "    except ValueError as e:\n",
        "        assert str(e) == \"Data must be a list of strings\"\n",
        "\n",
        "def test_invalid_element_type():\n",
        "    \"\"\"Test with non-string elements in the list.\"\"\"\n",
        "    try:\n",
        "        group_sentences([\"A\", 123, \"C\"])\n",
        "    except ValueError as e:\n",
        "        assert str(e) == \"All elements in data must be strings\"\n",
        "\n",
        "def test_negative_group_size():\n",
        "    \"\"\"Test with negative group_size.\"\"\"\n",
        "    try:\n",
        "        group_sentences([\"A\", \"B\", \"C\"], group_size=-1, stride=2)\n",
        "    except ValueError as e:\n",
        "        assert str(e) == \"Group size and stride must be positive integers\"\n",
        "\n",
        "def test_insufficient_data():\n",
        "    \"\"\"Test when data length is less than group size.\"\"\"\n",
        "    result = group_sentences([\"A\", \"B\"], group_size=4, stride=2)\n",
        "    assert result == [], f\"Expected an empty list, but got {result}\"\n",
        "\n",
        "\n",
        "test_valid_input()\n",
        "print(\"✅ test_valid_input passed\")\n",
        "\n",
        "test_invalid_data_type()\n",
        "print(\"✅ test_invalid_data_type passed\")\n",
        "\n",
        "test_invalid_element_type()\n",
        "print(\"✅ test_invalid_element_type passed\")\n",
        "\n",
        "test_negative_group_size()\n",
        "print(\"✅ test_negative_group_size passed\")\n",
        "\n",
        "test_insufficient_data()\n",
        "print(\"✅ test_insufficient_data passed\")\n",
        "\n",
        "print(\"\\n🎉 All tests passed successfully!\")\n"
      ],
      "metadata": {
        "colab": {
          "base_uri": "https://localhost:8080/"
        },
        "id": "oBi0Vxjqmzhn",
        "outputId": "53dd47ad-b80a-41e3-ada9-983b5638053b"
      },
      "id": "oBi0Vxjqmzhn",
      "execution_count": 11,
      "outputs": [
        {
          "output_type": "stream",
          "name": "stdout",
          "text": [
            "✅ test_valid_input passed\n",
            "✅ test_invalid_data_type passed\n",
            "✅ test_invalid_element_type passed\n",
            "✅ test_negative_group_size passed\n",
            "✅ test_insufficient_data passed\n",
            "\n",
            "🎉 All tests passed successfully!\n"
          ]
        }
      ]
    },
    {
      "cell_type": "markdown",
      "source": [
        "***Kết quả mong đợi***\n",
        "\n",
        "```\n",
        "✅ test_valid_input passed\n",
        "✅ test_invalid_data_type passed\n",
        "✅ test_invalid_element_type passed\n",
        "✅ test_negative_group_size passed\n",
        "✅ test_insufficient_data passed\n",
        "\n",
        "🎉 All tests passed successfully!\n",
        "```"
      ],
      "metadata": {
        "id": "xJSXcQkWnnTa"
      },
      "id": "xJSXcQkWnnTa"
    },
    {
      "cell_type": "markdown",
      "source": [
        "Thử một số mẫu"
      ],
      "metadata": {
        "id": "EW-AXys-nxN1"
      },
      "id": "EW-AXys-nxN1"
    },
    {
      "cell_type": "code",
      "source": [
        "grouped_sentences[0]"
      ],
      "metadata": {
        "colab": {
          "base_uri": "https://localhost:8080/",
          "height": 53
        },
        "id": "qlmJJSmelhFB",
        "outputId": "205a7a4f-090e-49b5-b8bb-0848ba1773c0"
      },
      "id": "qlmJJSmelhFB",
      "execution_count": 12,
      "outputs": [
        {
          "output_type": "execute_result",
          "data": {
            "text/plain": [
              "'Trăm năm trong cõi người ta,\\n\\nChữ tài chữ mệnh khéo là ghét nhau.\\n\\nTrải qua một cuộc bể dâu,\\n\\nNhững điều trông thấy mà đau đớn lòng.\\n\\nLạ gì bỉ sắc tư phong,\\n\\nTrời xanh quen thói má hồng đánh ghen.\\n\\n'"
            ],
            "application/vnd.google.colaboratory.intrinsic+json": {
              "type": "string"
            }
          },
          "metadata": {},
          "execution_count": 12
        }
      ]
    },
    {
      "cell_type": "code",
      "source": [
        "grouped_sentences[1]"
      ],
      "metadata": {
        "colab": {
          "base_uri": "https://localhost:8080/",
          "height": 53
        },
        "id": "6N8KcepBljvj",
        "outputId": "d4cd5ae2-f6e0-4b95-faff-51581f738e91"
      },
      "id": "6N8KcepBljvj",
      "execution_count": 13,
      "outputs": [
        {
          "output_type": "execute_result",
          "data": {
            "text/plain": [
              "'Chữ tài chữ mệnh khéo là ghét nhau.\\n\\nTrải qua một cuộc bể dâu,\\n\\nNhững điều trông thấy mà đau đớn lòng.\\n\\nLạ gì bỉ sắc tư phong,\\n\\nTrời xanh quen thói má hồng đánh ghen.\\n\\nCảo thơm lần giỞ trước đèn,\\n\\n'"
            ],
            "application/vnd.google.colaboratory.intrinsic+json": {
              "type": "string"
            }
          },
          "metadata": {},
          "execution_count": 13
        }
      ]
    },
    {
      "cell_type": "code",
      "execution_count": 14,
      "id": "9e57e4c0-5c5f-47c4-905e-32ea22364ec1",
      "metadata": {
        "id": "9e57e4c0-5c5f-47c4-905e-32ea22364ec1"
      },
      "outputs": [],
      "source": [
        "import random"
      ]
    },
    {
      "cell_type": "code",
      "source": [
        "from huggingface_hub import login\n",
        "from google.colab import userdata\n",
        "# Authenticate with your Hugging Face token\n",
        "login(\n",
        "    userdata.get(\"hugging_face_token\")\n",
        ")"
      ],
      "metadata": {
        "id": "XdeQtRpElzYt"
      },
      "id": "XdeQtRpElzYt",
      "execution_count": 15,
      "outputs": []
    },
    {
      "cell_type": "markdown",
      "source": [
        "### TODO 2: Hàm tách tokens"
      ],
      "metadata": {
        "id": "wdTxWxPAn-m1"
      },
      "id": "wdTxWxPAn-m1"
    },
    {
      "cell_type": "code",
      "execution_count": 16,
      "id": "b87a24ab-6e8f-420c-8be3-4e78d93c706f",
      "metadata": {
        "scrolled": true,
        "colab": {
          "base_uri": "https://localhost:8080/",
          "height": 208,
          "referenced_widgets": [
            "90c270793b344d45974eeb8b25ef2270",
            "9cf1714d5ae04904b80cb445ccbef9ff",
            "cb8402c412b4468a9537b4440d6e0f2d",
            "6d3f1cfa33cc46b88509eb79b994531d",
            "dc7c9350b8aa44738635363e44ee917a",
            "13019808768e4b9594eb316ecf3b1f5e",
            "f29f4063c4314f86b6cc82ed0ace7afa",
            "5d3e3c4b4a4242b89ecb0a0ad23bd201",
            "498649bbc02041dc96a1f7a75e24f0f7",
            "6a537f6372e246e897b808291bf681f9",
            "926f978804264df983e21ede16a7a444",
            "b492c0c3316349b5bdd22ed64bd26628",
            "092de34e00524cba93bfbda6c9f71870",
            "baf66939b46747b4b655e7d777838176",
            "e7d3a31f0f2143d2967aa36cb45e736e",
            "77901b1758f2470bbaf53d924d600ad8",
            "f36fc164aeb3485483577d0ece9ac94c",
            "91d97723fc73451d8fb966118a30420c",
            "dd9fdd3fcdf443ac97af4128cef4fc1c",
            "b7a0429b6fd24c44a78478265ea1bc54",
            "8fc77c0cc4034a1ca895294b7444c72b",
            "c4da76f8f4dd490596766650c50251d1"
          ]
        },
        "id": "b87a24ab-6e8f-420c-8be3-4e78d93c706f",
        "outputId": "b14c3272-a543-4cc5-c245-7ba44ad3c536"
      },
      "outputs": [
        {
          "output_type": "stream",
          "name": "stderr",
          "text": [
            "/usr/local/lib/python3.11/dist-packages/huggingface_hub/utils/_auth.py:94: UserWarning: \n",
            "The secret `HF_TOKEN` does not exist in your Colab secrets.\n",
            "To authenticate with the Hugging Face Hub, create a token in your settings tab (https://huggingface.co/settings/tokens), set it as secret in your Google Colab and restart your session.\n",
            "You will be able to reuse this secret in all of your notebooks.\n",
            "Please note that authentication is recommended but still optional to access public models or datasets.\n",
            "  warnings.warn(\n"
          ]
        },
        {
          "output_type": "display_data",
          "data": {
            "text/plain": [
              "Map:   0%|          | 0/2599 [00:00<?, ? examples/s]"
            ],
            "application/vnd.jupyter.widget-view+json": {
              "version_major": 2,
              "version_minor": 0,
              "model_id": "90c270793b344d45974eeb8b25ef2270"
            }
          },
          "metadata": {}
        },
        {
          "output_type": "display_data",
          "data": {
            "text/plain": [
              "Map:   0%|          | 0/650 [00:00<?, ? examples/s]"
            ],
            "application/vnd.jupyter.widget-view+json": {
              "version_major": 2,
              "version_minor": 0,
              "model_id": "b492c0c3316349b5bdd22ed64bd26628"
            }
          },
          "metadata": {}
        }
      ],
      "source": [
        "from transformers import AutoTokenizer\n",
        "# Load tokenizer\n",
        "tokenizer = AutoTokenizer.from_pretrained(model_name)\n",
        "tokenizer.pad_token = tokenizer.eos_token  # Use EOS as PAD token\n",
        "\n",
        "# Tokenization\n",
        "def tokenize_function(examples):\n",
        "    \"\"\"\n",
        "    Hàm này thực hiện việc mã hóa (tokenize) dữ liệu văn bản để chuẩn bị đưa vào mô hình ngôn ngữ.\n",
        "\n",
        "    Tham số:\n",
        "        examples (dict): Một từ điển chứa các cặp khóa-giá trị,\n",
        "                         trong đó khóa 'text' chứa danh sách các chuỗi văn bản cần mã hóa.\n",
        "\n",
        "    Trả về:\n",
        "        dict: Một từ điển chứa các thành phần sau:\n",
        "            - input_ids: Danh sách ID của các token đã được mã hóa từ văn bản.\n",
        "            - attention_mask: Mặt nạ chú ý, giúp mô hình bỏ qua các giá trị đệm (padding).\n",
        "            - labels: Sao chép từ `input_ids` để sử dụng làm nhãn trong các bài toán huấn luyện có giám sát.\n",
        "    Chú ý:\n",
        "        - Tham số `max_length` nên được điều chỉnh phù hợp với kích thước tối đa của mô hình.\n",
        "    \"\"\"\n",
        "\n",
        "    # Mã hóa văn bản\n",
        "    # - Cắt bớt văn bản nếu nó vượt quá `max_length`.\n",
        "    # - Thêm giá trị đệm (padding) vào văn bản ngắn hơn `max_length`.\n",
        "    # - Giới hạn tối đa độ dài chuỗi mã hóa là 64 token.\n",
        "    tokens = tokenizer(examples[\"text\"], truncation=True, padding='max_length', max_length=128)\n",
        "\n",
        "    # Sao chép từ `input_ids` để sử dụng làm nhãn trong các bài toán huấn luyện có giám sát.\n",
        "    tokens[\"labels\"] = tokens[\"input_ids\"].copy()\n",
        "    return tokens\n",
        "\n",
        "\n",
        "tokenized_datasets = dataset.map(tokenize_function, batched=True)\n"
      ]
    },
    {
      "cell_type": "code",
      "source": [
        "len(tokenized_datasets[\"train\"][0][\"input_ids\"])"
      ],
      "metadata": {
        "colab": {
          "base_uri": "https://localhost:8080/"
        },
        "id": "nzahhdjZoZy2",
        "outputId": "89134a26-61c2-455a-ecf0-47a7fa6cbaac"
      },
      "id": "nzahhdjZoZy2",
      "execution_count": 17,
      "outputs": [
        {
          "output_type": "execute_result",
          "data": {
            "text/plain": [
              "128"
            ]
          },
          "metadata": {},
          "execution_count": 17
        }
      ]
    },
    {
      "cell_type": "markdown",
      "source": [
        "Code test"
      ],
      "metadata": {
        "id": "EzPyuJS2oTqa"
      },
      "id": "EzPyuJS2oTqa"
    },
    {
      "cell_type": "code",
      "source": [
        "sample_dataset = Dataset.from_dict({\n",
        "    \"text\": [\n",
        "        \"Trăm năm trong cõi người ta,\\n\\nChữ tài chữ mệnh khéo là ghét nhau.\\n\\nTrải qua một cuộc bể dâu,\\n\\nNhững điều trông thấy mà đau đớn lòng.\\n\\n\"\n",
        "    ]\n",
        "})\n",
        "\n",
        "\n",
        "# Test 1: Keys Exist\n",
        "def test_tokenization_keys():\n",
        "    \"\"\"Ensure output contains input_ids, attention_mask, and labels.\"\"\"\n",
        "    sample = sample_dataset[0]\n",
        "    tokenized = tokenize_function(sample)\n",
        "    assert \"input_ids\" in tokenized, \"input_ids missing\"\n",
        "    assert \"attention_mask\" in tokenized, \"attention_mask missing\"\n",
        "    print(\"✅ test_tokenization_keys passed\")\n",
        "\n",
        "# Test 2: Token Length\n",
        "def test_token_length():\n",
        "    \"\"\"Ensure tokenized outputs have the correct length.\"\"\"\n",
        "    sample = sample_dataset[0]\n",
        "    tokenized = tokenize_function(sample)\n",
        "    assert len(tokenized[\"input_ids\"]) == 64, \"input_ids length mismatch\"\n",
        "    assert len(tokenized[\"attention_mask\"]) == 64, \"attention_mask length mismatch\"\n",
        "    print(\"✅ test_token_length passed\")\n",
        "\n",
        "# Test 3: Labels Match Input IDs\n",
        "def test_labels_match_input_ids():\n",
        "    \"\"\"Ensure labels are a copy of input_ids.\"\"\"\n",
        "    sample = sample_dataset[0]\n",
        "    tokenized = tokenize_function(sample)\n",
        "    assert tokenized[\"input_ids\"][0] == tokenized[\"labels\"][0], \"Labels do not match input_ids\"\n",
        "    print(\"✅ test_labels_match_input_ids passed\")\n",
        "\n",
        "# Test 4: Specific Token IDs\n",
        "def test_specific_input_ids():\n",
        "    \"\"\"Ensure token IDs match the expected output for a specific input text.\"\"\"\n",
        "    sample = {\n",
        "        'text': 'Trăm năm trong cõi người ta,\\n\\nChữ tài chữ mệnh khéo là ghét nhau.\\n\\nTrải qua một cuộc bể dâu,\\n\\nNhững điều trông thấy mà đau đớn lòng.\\n\\n'\n",
        "    }\n",
        "    expected_input_ids = [128000, 1305, 78454, 100631, 70186, 272, 111209, 100524, 9637, 3638, 1163,\n",
        "        57073, 102312, 111244, 120899, 24040, 89577, 39015, 37224, 10515, 103321,\n",
        "        382, 1305, 76150, 74625, 100403, 104053, 293, 34550, 294, 101208, 3638,\n",
        "        112438, 101309, 490, 24976, 102874, 100920, 113829, 15199, 45006, 77,\n",
        "        99270, 382]\n",
        "\n",
        "    tokenized = tokenize_function(sample)\n",
        "\n",
        "    assert tokenized[\"input_ids\"][:44] == expected_input_ids, \"Input IDs do not match expected\"\n",
        "    print(\"✅ test_specific_input_ids passed\")\n",
        "\n",
        "# Run Tests\n",
        "test_tokenization_keys()\n",
        "test_token_length()\n",
        "test_labels_match_input_ids()\n",
        "test_specific_input_ids()\n",
        "\n",
        "print(\"\\n🎉 All tests passed successfully!\")"
      ],
      "metadata": {
        "colab": {
          "base_uri": "https://localhost:8080/",
          "height": 357
        },
        "id": "nkBQOJogoVGg",
        "outputId": "ddc23d88-6b88-4a4e-e323-076469fd92bd"
      },
      "id": "nkBQOJogoVGg",
      "execution_count": 18,
      "outputs": [
        {
          "output_type": "stream",
          "name": "stdout",
          "text": [
            "✅ test_tokenization_keys passed\n"
          ]
        },
        {
          "output_type": "error",
          "ename": "AssertionError",
          "evalue": "input_ids length mismatch",
          "traceback": [
            "\u001b[0;31m---------------------------------------------------------------------------\u001b[0m",
            "\u001b[0;31mAssertionError\u001b[0m                            Traceback (most recent call last)",
            "\u001b[0;32m<ipython-input-18-d22f85e06598>\u001b[0m in \u001b[0;36m<cell line: 0>\u001b[0;34m()\u001b[0m\n\u001b[1;32m     51\u001b[0m \u001b[0;31m# Run Tests\u001b[0m\u001b[0;34m\u001b[0m\u001b[0;34m\u001b[0m\u001b[0m\n\u001b[1;32m     52\u001b[0m \u001b[0mtest_tokenization_keys\u001b[0m\u001b[0;34m(\u001b[0m\u001b[0;34m)\u001b[0m\u001b[0;34m\u001b[0m\u001b[0;34m\u001b[0m\u001b[0m\n\u001b[0;32m---> 53\u001b[0;31m \u001b[0mtest_token_length\u001b[0m\u001b[0;34m(\u001b[0m\u001b[0;34m)\u001b[0m\u001b[0;34m\u001b[0m\u001b[0;34m\u001b[0m\u001b[0m\n\u001b[0m\u001b[1;32m     54\u001b[0m \u001b[0mtest_labels_match_input_ids\u001b[0m\u001b[0;34m(\u001b[0m\u001b[0;34m)\u001b[0m\u001b[0;34m\u001b[0m\u001b[0;34m\u001b[0m\u001b[0m\n\u001b[1;32m     55\u001b[0m \u001b[0mtest_specific_input_ids\u001b[0m\u001b[0;34m(\u001b[0m\u001b[0;34m)\u001b[0m\u001b[0;34m\u001b[0m\u001b[0;34m\u001b[0m\u001b[0m\n",
            "\u001b[0;32m<ipython-input-18-d22f85e06598>\u001b[0m in \u001b[0;36mtest_token_length\u001b[0;34m()\u001b[0m\n\u001b[1;32m     20\u001b[0m     \u001b[0msample\u001b[0m \u001b[0;34m=\u001b[0m \u001b[0msample_dataset\u001b[0m\u001b[0;34m[\u001b[0m\u001b[0;36m0\u001b[0m\u001b[0;34m]\u001b[0m\u001b[0;34m\u001b[0m\u001b[0;34m\u001b[0m\u001b[0m\n\u001b[1;32m     21\u001b[0m     \u001b[0mtokenized\u001b[0m \u001b[0;34m=\u001b[0m \u001b[0mtokenize_function\u001b[0m\u001b[0;34m(\u001b[0m\u001b[0msample\u001b[0m\u001b[0;34m)\u001b[0m\u001b[0;34m\u001b[0m\u001b[0;34m\u001b[0m\u001b[0m\n\u001b[0;32m---> 22\u001b[0;31m     \u001b[0;32massert\u001b[0m \u001b[0mlen\u001b[0m\u001b[0;34m(\u001b[0m\u001b[0mtokenized\u001b[0m\u001b[0;34m[\u001b[0m\u001b[0;34m\"input_ids\"\u001b[0m\u001b[0;34m]\u001b[0m\u001b[0;34m)\u001b[0m \u001b[0;34m==\u001b[0m \u001b[0;36m64\u001b[0m\u001b[0;34m,\u001b[0m \u001b[0;34m\"input_ids length mismatch\"\u001b[0m\u001b[0;34m\u001b[0m\u001b[0;34m\u001b[0m\u001b[0m\n\u001b[0m\u001b[1;32m     23\u001b[0m     \u001b[0;32massert\u001b[0m \u001b[0mlen\u001b[0m\u001b[0;34m(\u001b[0m\u001b[0mtokenized\u001b[0m\u001b[0;34m[\u001b[0m\u001b[0;34m\"attention_mask\"\u001b[0m\u001b[0;34m]\u001b[0m\u001b[0;34m)\u001b[0m \u001b[0;34m==\u001b[0m \u001b[0;36m64\u001b[0m\u001b[0;34m,\u001b[0m \u001b[0;34m\"attention_mask length mismatch\"\u001b[0m\u001b[0;34m\u001b[0m\u001b[0;34m\u001b[0m\u001b[0m\n\u001b[1;32m     24\u001b[0m     \u001b[0mprint\u001b[0m\u001b[0;34m(\u001b[0m\u001b[0;34m\"✅ test_token_length passed\"\u001b[0m\u001b[0;34m)\u001b[0m\u001b[0;34m\u001b[0m\u001b[0;34m\u001b[0m\u001b[0m\n",
            "\u001b[0;31mAssertionError\u001b[0m: input_ids length mismatch"
          ]
        }
      ]
    },
    {
      "cell_type": "markdown",
      "source": [
        "**Kết quả mong đợi**\n",
        "\n",
        "🎉 All tests passed successfully!"
      ],
      "metadata": {
        "id": "TTw_A4zupRgP"
      },
      "id": "TTw_A4zupRgP"
    },
    {
      "cell_type": "code",
      "execution_count": 19,
      "id": "f1084053-4433-4232-ba04-146fdf96843a",
      "metadata": {
        "id": "f1084053-4433-4232-ba04-146fdf96843a"
      },
      "outputs": [],
      "source": [
        "sample_ids = tokenize_function(dataset[\"train\"][0])"
      ]
    },
    {
      "cell_type": "markdown",
      "source": [],
      "metadata": {
        "id": "fphDbmWKDbmP"
      },
      "id": "fphDbmWKDbmP"
    },
    {
      "cell_type": "code",
      "source": [
        "tokenized_datasets"
      ],
      "metadata": {
        "colab": {
          "base_uri": "https://localhost:8080/"
        },
        "id": "xwggoM6E_882",
        "outputId": "dcbeb8b1-8696-46f6-d2ed-c61b3cd33572"
      },
      "id": "xwggoM6E_882",
      "execution_count": 20,
      "outputs": [
        {
          "output_type": "execute_result",
          "data": {
            "text/plain": [
              "DatasetDict({\n",
              "    train: Dataset({\n",
              "        features: ['text', 'input_ids', 'attention_mask', 'labels'],\n",
              "        num_rows: 2599\n",
              "    })\n",
              "    validation: Dataset({\n",
              "        features: ['text', 'input_ids', 'attention_mask', 'labels'],\n",
              "        num_rows: 650\n",
              "    })\n",
              "})"
            ]
          },
          "metadata": {},
          "execution_count": 20
        }
      ]
    },
    {
      "cell_type": "code",
      "execution_count": 21,
      "id": "a7c41433-f932-4488-ab20-1637492363f7",
      "metadata": {
        "scrolled": true,
        "colab": {
          "base_uri": "https://localhost:8080/"
        },
        "id": "a7c41433-f932-4488-ab20-1637492363f7",
        "outputId": "b2690490-5e3c-4206-af53-45acd34a17f4"
      },
      "outputs": [
        {
          "output_type": "stream",
          "name": "stdout",
          "text": [
            "['<|begin_of_text|>', 'Tr', 'ăm', ' năm', ' trong', ' c', 'õi', ' người', ' ta', ',\\n\\n', 'Ch', 'ữ', ' tài', ' chữ', ' mệnh', ' kh', 'éo', ' là', ' gh', 'ét', ' nhau', '.\\n\\n', 'Tr', 'ải', ' qua', ' một', ' cuộc', ' b', 'ể', ' d', 'âu', ',\\n\\n', 'Những', ' điều', ' tr', 'ông', ' thấy', ' mà', ' đau', ' đ', 'ớ', 'n', ' lòng', '.\\n\\n', 'L', 'ạ', ' gì', ' b', 'ỉ', ' sắc', ' tư', ' phong', ',\\n\\n', 'Tr', 'ời', ' xanh', ' quen', ' th', 'ói', ' má', ' hồng', ' đánh', ' g', 'hen', '.\\n\\n', '<|end_of_text|>', '<|end_of_text|>', '<|end_of_text|>', '<|end_of_text|>', '<|end_of_text|>', '<|end_of_text|>', '<|end_of_text|>', '<|end_of_text|>', '<|end_of_text|>', '<|end_of_text|>', '<|end_of_text|>', '<|end_of_text|>', '<|end_of_text|>', '<|end_of_text|>', '<|end_of_text|>', '<|end_of_text|>', '<|end_of_text|>', '<|end_of_text|>', '<|end_of_text|>', '<|end_of_text|>', '<|end_of_text|>', '<|end_of_text|>', '<|end_of_text|>', '<|end_of_text|>', '<|end_of_text|>', '<|end_of_text|>', '<|end_of_text|>', '<|end_of_text|>', '<|end_of_text|>', '<|end_of_text|>', '<|end_of_text|>', '<|end_of_text|>', '<|end_of_text|>', '<|end_of_text|>', '<|end_of_text|>', '<|end_of_text|>', '<|end_of_text|>', '<|end_of_text|>', '<|end_of_text|>', '<|end_of_text|>', '<|end_of_text|>', '<|end_of_text|>', '<|end_of_text|>', '<|end_of_text|>', '<|end_of_text|>', '<|end_of_text|>', '<|end_of_text|>', '<|end_of_text|>', '<|end_of_text|>', '<|end_of_text|>', '<|end_of_text|>', '<|end_of_text|>', '<|end_of_text|>', '<|end_of_text|>', '<|end_of_text|>', '<|end_of_text|>', '<|end_of_text|>', '<|end_of_text|>', '<|end_of_text|>', '<|end_of_text|>', '<|end_of_text|>', '<|end_of_text|>', '<|end_of_text|>']\n"
          ]
        }
      ],
      "source": [
        "tokens = [tokenizer.decode([token_id]) for token_id in tokenized_datasets[\"train\"][\"input_ids\"][0]]\n",
        "\n",
        "print(tokens)"
      ]
    },
    {
      "cell_type": "code",
      "execution_count": 22,
      "id": "98009c82-273b-43ed-88da-125a146ac415",
      "metadata": {
        "id": "98009c82-273b-43ed-88da-125a146ac415"
      },
      "outputs": [],
      "source": [
        "from transformers import DataCollatorForLanguageModeling\n",
        "\n",
        "data_collator = DataCollatorForLanguageModeling(\n",
        "    tokenizer=tokenizer,\n",
        "    mlm=False  # Causal Language Modeling\n",
        ")"
      ]
    },
    {
      "cell_type": "code",
      "execution_count": 23,
      "id": "bd12c7ce-2b94-490c-9a4a-b284119d216b",
      "metadata": {
        "id": "bd12c7ce-2b94-490c-9a4a-b284119d216b"
      },
      "outputs": [],
      "source": [
        "from transformers import AutoModelForCausalLM, Trainer, TrainingArguments\n",
        "import torch\n",
        "\n",
        "# Load model\n",
        "model = AutoModelForCausalLM.from_pretrained(\n",
        "    model_name,\n",
        "    torch_dtype=torch.bfloat16\n",
        ")\n"
      ]
    },
    {
      "cell_type": "markdown",
      "source": [
        "### TODO 3: Setup Training"
      ],
      "metadata": {
        "id": "zt02Ob30uD9I"
      },
      "id": "zt02Ob30uD9I"
    },
    {
      "cell_type": "code",
      "source": [
        "from transformers import TrainingArguments\n",
        "\n",
        "training_args = TrainingArguments(\n",
        "    output_dir=\"./llama-pretrained\",  # Thư mục để lưu các điểm kiểm tra (checkpoint) của mô hình\n",
        "    eval_strategy=\"epoch\",  # Đánh giá mô hình sau mỗi epoch (1 vòng lặp qua toàn bộ dữ liệu huấn luyện)\n",
        "    save_strategy=\"epoch\",  # Lưu checkpoint của mô hình sau mỗi epoch\n",
        "    load_best_model_at_end=True,  # Tải mô hình tốt nhất dựa trên tổn thất (loss) khi đánh giá\n",
        "    metric_for_best_model=\"eval_loss\",  # Sử dụng tổn thất đánh giá (eval loss) để xác định mô hình tốt nhất\n",
        "    greater_is_better=False,  # Tổn thất càng nhỏ càng tốt (loss thấp hơn là tốt hơn)\n",
        "    learning_rate=2e-5,  # Tốc độ học (learning rate) của trình tối ưu hóa\n",
        "    per_device_train_batch_size=2,  # Kích thước batch cho mỗi thiết bị khi huấn luyện\n",
        "    per_device_eval_batch_size=2,  # Kích thước batch cho mỗi thiết bị khi đánh giá\n",
        "    num_train_epochs=3,  # Số lượng epoch huấn luyện (số vòng lặp qua toàn bộ tập dữ liệu huấn luyện)\n",
        "    weight_decay=0.01,  # Hệ số suy giảm trọng số để tránh quá khớp (overfitting)\n",
        "    logging_dir=\"./logs\",  # Thư mục lưu trữ log để theo dõi quá trình huấn luyện\n",
        "    logging_steps=10,  # Ghi log sau mỗi 10 bước huấn luyện\n",
        "    save_total_limit=2  # Chỉ giữ lại 2 checkpoint gần nhất để tiết kiệm dung lượng lưu trữ\n",
        ")\n"
      ],
      "metadata": {
        "id": "2ScPQc0JtXVO",
        "collapsed": true
      },
      "id": "2ScPQc0JtXVO",
      "execution_count": 24,
      "outputs": []
    },
    {
      "cell_type": "markdown",
      "source": [
        "Test code"
      ],
      "metadata": {
        "id": "_YAd8WMLt2EZ"
      },
      "id": "_YAd8WMLt2EZ"
    },
    {
      "cell_type": "code",
      "source": [
        "# Expected values for TrainingArguments\n",
        "assert training_args.output_dir == \"./llama-pretrained\", \"Expected output_dir to be './llama-pretrained'\"\n",
        "assert training_args.evaluation_strategy == \"epoch\", \"Expected evaluation_strategy to be 'epoch'\"\n",
        "assert training_args.save_strategy == \"epoch\", \"Expected save_strategy to be 'epoch'\"\n",
        "assert training_args.load_best_model_at_end is True, \"Expected load_best_model_at_end to be True\"\n",
        "assert training_args.metric_for_best_model == \"eval_loss\", \"Expected metric_for_best_model to be 'eval_loss'\"\n",
        "assert training_args.greater_is_better is False, \"Expected greater_is_better to be False\"\n",
        "assert training_args.learning_rate == 2e-5, \"Expected learning_rate to be 2e-5\"\n",
        "assert training_args.per_device_train_batch_size == 2, \"Expected per_device_train_batch_size to be 2\"\n",
        "assert training_args.per_device_eval_batch_size == 2, \"Expected per_device_eval_batch_size to be 2\"\n",
        "assert training_args.num_train_epochs == 15, \"Expected num_train_epochs to be 15\"\n",
        "assert training_args.weight_decay == 0.01, \"Expected weight_decay to be 0.01\"\n",
        "assert training_args.logging_dir == \"./logs\", \"Expected logging_dir to be './logs'\"\n",
        "assert training_args.logging_steps == 10, \"Expected logging_steps to be 10\"\n",
        "assert training_args.save_total_limit == 2, \"Expected save_total_limit to be 2\"\n",
        "print(\"🎉 All tests passed!\")"
      ],
      "metadata": {
        "id": "zBejrKl2tYeZ"
      },
      "id": "zBejrKl2tYeZ",
      "execution_count": null,
      "outputs": []
    },
    {
      "cell_type": "markdown",
      "source": [
        "**Kết quả mong đợi**\n",
        "\n",
        "🎉 🎉 All tests passed!"
      ],
      "metadata": {
        "id": "nDV6Wicst82_"
      },
      "id": "nDV6Wicst82_"
    },
    {
      "cell_type": "markdown",
      "source": [
        "### Tiến hành đào tạo"
      ],
      "metadata": {
        "id": "cTs6WVe8uIQj"
      },
      "id": "cTs6WVe8uIQj"
    },
    {
      "cell_type": "code",
      "execution_count": 25,
      "id": "c2919172-8f11-41e1-94d0-baa4e0926a85",
      "metadata": {
        "id": "c2919172-8f11-41e1-94d0-baa4e0926a85",
        "colab": {
          "base_uri": "https://localhost:8080/",
          "height": 401
        },
        "outputId": "47088fff-c865-4686-9f3e-a482cf29233f"
      },
      "outputs": [
        {
          "output_type": "stream",
          "name": "stderr",
          "text": [
            "\u001b[34m\u001b[1mwandb\u001b[0m: \u001b[33mWARNING\u001b[0m The `run_name` is currently set to the same value as `TrainingArguments.output_dir`. If this was not intended, please specify a different run name by setting the `TrainingArguments.run_name` parameter.\n",
            "\u001b[34m\u001b[1mwandb\u001b[0m: Currently logged in as: \u001b[33mteamaiproptit\u001b[0m (\u001b[33mteamaiproptit-other\u001b[0m) to \u001b[32mhttps://api.wandb.ai\u001b[0m. Use \u001b[1m`wandb login --relogin`\u001b[0m to force relogin\n"
          ]
        },
        {
          "output_type": "display_data",
          "data": {
            "text/plain": [
              "<IPython.core.display.HTML object>"
            ],
            "text/html": [
              "Tracking run with wandb version 0.19.10"
            ]
          },
          "metadata": {}
        },
        {
          "output_type": "display_data",
          "data": {
            "text/plain": [
              "<IPython.core.display.HTML object>"
            ],
            "text/html": [
              "Run data is saved locally in <code>/content/wandb/run-20250508_041946-hxk6yonc</code>"
            ]
          },
          "metadata": {}
        },
        {
          "output_type": "display_data",
          "data": {
            "text/plain": [
              "<IPython.core.display.HTML object>"
            ],
            "text/html": [
              "Syncing run <strong><a href='https://wandb.ai/teamaiproptit-other/huggingface/runs/hxk6yonc' target=\"_blank\">./llama-pretrained</a></strong> to <a href='https://wandb.ai/teamaiproptit-other/huggingface' target=\"_blank\">Weights & Biases</a> (<a href='https://wandb.me/developer-guide' target=\"_blank\">docs</a>)<br>"
            ]
          },
          "metadata": {}
        },
        {
          "output_type": "display_data",
          "data": {
            "text/plain": [
              "<IPython.core.display.HTML object>"
            ],
            "text/html": [
              " View project at <a href='https://wandb.ai/teamaiproptit-other/huggingface' target=\"_blank\">https://wandb.ai/teamaiproptit-other/huggingface</a>"
            ]
          },
          "metadata": {}
        },
        {
          "output_type": "display_data",
          "data": {
            "text/plain": [
              "<IPython.core.display.HTML object>"
            ],
            "text/html": [
              " View run at <a href='https://wandb.ai/teamaiproptit-other/huggingface/runs/hxk6yonc' target=\"_blank\">https://wandb.ai/teamaiproptit-other/huggingface/runs/hxk6yonc</a>"
            ]
          },
          "metadata": {}
        },
        {
          "output_type": "stream",
          "name": "stderr",
          "text": [
            "\u001b[34m\u001b[1mwandb\u001b[0m: \u001b[33mWARNING\u001b[0m The get_url method is deprecated and will be removed in a future release. Please use `run.url` instead.\n",
            "We detected that you are passing `past_key_values` as a tuple and this is deprecated and will be removed in v4.43. Please use an appropriate `Cache` class (https://huggingface.co/docs/transformers/v4.41.3/en/internal/generation_utils#transformers.Cache)\n"
          ]
        },
        {
          "output_type": "display_data",
          "data": {
            "text/plain": [
              "<IPython.core.display.HTML object>"
            ],
            "text/html": [
              "\n",
              "    <div>\n",
              "      \n",
              "      <progress value='3900' max='3900' style='width:300px; height:20px; vertical-align: middle;'></progress>\n",
              "      [3900/3900 1:19:29, Epoch 3/3]\n",
              "    </div>\n",
              "    <table border=\"1\" class=\"dataframe\">\n",
              "  <thead>\n",
              " <tr style=\"text-align: left;\">\n",
              "      <th>Epoch</th>\n",
              "      <th>Training Loss</th>\n",
              "      <th>Validation Loss</th>\n",
              "    </tr>\n",
              "  </thead>\n",
              "  <tbody>\n",
              "    <tr>\n",
              "      <td>1</td>\n",
              "      <td>0.877700</td>\n",
              "      <td>4.970168</td>\n",
              "    </tr>\n",
              "    <tr>\n",
              "      <td>2</td>\n",
              "      <td>0.263000</td>\n",
              "      <td>5.397875</td>\n",
              "    </tr>\n",
              "    <tr>\n",
              "      <td>3</td>\n",
              "      <td>0.188700</td>\n",
              "      <td>5.532045</td>\n",
              "    </tr>\n",
              "  </tbody>\n",
              "</table><p>"
            ]
          },
          "metadata": {}
        },
        {
          "output_type": "stream",
          "name": "stderr",
          "text": [
            "There were missing keys in the checkpoint model loaded: ['lm_head.weight'].\n"
          ]
        },
        {
          "output_type": "execute_result",
          "data": {
            "text/plain": [
              "TrainOutput(global_step=3900, training_loss=1.030894261598587, metrics={'train_runtime': 4773.8595, 'train_samples_per_second': 1.633, 'train_steps_per_second': 0.817, 'total_flos': 5827292340682752.0, 'train_loss': 1.030894261598587, 'epoch': 3.0})"
            ]
          },
          "metadata": {},
          "execution_count": 25
        }
      ],
      "source": [
        "# Trainer\n",
        "trainer = Trainer(\n",
        "    model=model,\n",
        "    args=training_args,\n",
        "    train_dataset=tokenized_datasets[\"train\"],\n",
        "    eval_dataset=tokenized_datasets[\"validation\"],\n",
        "    tokenizer=tokenizer,\n",
        "    data_collator=data_collator\n",
        ")\n",
        "\n",
        "# Start Training\n",
        "trainer.train()"
      ]
    },
    {
      "cell_type": "markdown",
      "source": [
        "### TODO 4: Kiểm tra mất mát trên tập validation"
      ],
      "metadata": {
        "id": "_PcCMZry550b"
      },
      "id": "_PcCMZry550b"
    },
    {
      "cell_type": "markdown",
      "source": [
        "Yêu cầu giá trị mất mát nhỏ hơn 4.0"
      ],
      "metadata": {
        "id": "jAaFz4L-AyOx"
      },
      "id": "jAaFz4L-AyOx"
    },
    {
      "cell_type": "code",
      "source": [
        "# Evaluate the model\n",
        "eval_results = trainer.evaluate()\n",
        "\n",
        "# Print evaluation results\n",
        "print(\"Evaluation Results:\")\n",
        "for key, value in eval_results.items():\n",
        "    print(f\"{key}: {value}\")\n"
      ],
      "metadata": {
        "colab": {
          "base_uri": "https://localhost:8080/",
          "height": 144
        },
        "id": "sJri45Vy88Xg",
        "outputId": "9d447277-8c6d-478c-9cca-b03385e06c03"
      },
      "id": "sJri45Vy88Xg",
      "execution_count": 26,
      "outputs": [
        {
          "output_type": "display_data",
          "data": {
            "text/plain": [
              "<IPython.core.display.HTML object>"
            ],
            "text/html": [
              "\n",
              "    <div>\n",
              "      \n",
              "      <progress value='325' max='325' style='width:300px; height:20px; vertical-align: middle;'></progress>\n",
              "      [325/325 01:27]\n",
              "    </div>\n",
              "    "
            ]
          },
          "metadata": {}
        },
        {
          "output_type": "stream",
          "name": "stdout",
          "text": [
            "Evaluation Results:\n",
            "eval_loss: 4.970167636871338\n",
            "eval_runtime: 87.4322\n",
            "eval_samples_per_second: 7.434\n",
            "eval_steps_per_second: 3.717\n",
            "epoch: 3.0\n"
          ]
        }
      ]
    },
    {
      "cell_type": "code",
      "source": [
        "# Check if eval_loss is less than 4.0\n",
        "exp = 4.0\n",
        "if 'eval_loss' in eval_results:\n",
        "    if eval_results['eval_loss'] < exp:\n",
        "        print(\"✅ Success: Evaluation loss is less than 4.0!\")\n",
        "    else:\n",
        "        print(\"❌ Warning: Evaluation loss is greater than 4.0. Further tuning is needed.\")\n",
        "else:\n",
        "    print(\"⚠️ Warning: 'eval_loss' not found in evaluation results.\")\n"
      ],
      "metadata": {
        "colab": {
          "base_uri": "https://localhost:8080/"
        },
        "id": "7wWEEXDK59Qs",
        "outputId": "f5c7c545-2f62-4b32-ef20-598d239d2f6e"
      },
      "id": "7wWEEXDK59Qs",
      "execution_count": 27,
      "outputs": [
        {
          "output_type": "stream",
          "name": "stdout",
          "text": [
            "❌ Warning: Evaluation loss is greater than 4.0. Further tuning is needed.\n"
          ]
        }
      ]
    },
    {
      "cell_type": "markdown",
      "source": [
        "### Inference"
      ],
      "metadata": {
        "id": "YAmDtB_nuMIy"
      },
      "id": "YAmDtB_nuMIy"
    },
    {
      "cell_type": "code",
      "execution_count": 28,
      "id": "4f4058d4-8e91-4197-ae95-0c470c6c693a",
      "metadata": {
        "id": "4f4058d4-8e91-4197-ae95-0c470c6c693a",
        "colab": {
          "base_uri": "https://localhost:8080/"
        },
        "outputId": "5f967374-9665-4297-a820-674c5b7cf2b3"
      },
      "outputs": [
        {
          "output_type": "stream",
          "name": "stdout",
          "text": [
            "Best model path: ./llama-pretrained/checkpoint-1300\n"
          ]
        }
      ],
      "source": [
        "import torch\n",
        "from transformers import AutoModelForCausalLM\n",
        "\n",
        "# Load the best model\n",
        "best_model_path = trainer.state.best_model_checkpoint\n",
        "print(f\"Best model path: {best_model_path}\")\n",
        "\n",
        "best_model = AutoModelForCausalLM.from_pretrained(\n",
        "    best_model_path\n",
        ").to(\"cuda\" if torch.cuda.is_available() else \"cpu\")"
      ]
    },
    {
      "cell_type": "code",
      "execution_count": 30,
      "id": "9762aa1e-1627-4892-b103-54070eb7cece",
      "metadata": {
        "id": "9762aa1e-1627-4892-b103-54070eb7cece",
        "colab": {
          "base_uri": "https://localhost:8080/"
        },
        "outputId": "2ebd9a5f-f02d-464d-ae96-8582aa8bd5c4"
      },
      "outputs": [
        {
          "output_type": "stream",
          "name": "stdout",
          "text": [
            "Generated text from the best model:\n",
            "Nếu em là người phụ bạc,\n",
            "\n",
            "Thì em cũng lầm chăng chua oan thế này?\n",
            "\n",
            "Lầm chăng cho đà trông mặt?\n",
            "\n",
            "Thôi thì thôi có tiếc gì của may!\n",
            "\n",
            "Sợ khi ong bướm đãi đằng,\n",
            "\n",
            "Đến điều sống đục, sao bằng thác trong!\n",
            "\n",
            "Nàng rằng: Tiền định tiên tri,\n",
            "\n",
            "Phẩm tiên nào rụng rời được này tấc phun.\n",
            "\n",
            "Mà ta biết điều này hay không?\n",
            "\n",
            "Trước là Bạc Hạnh, Bạc Bà,\n",
            "\n",
            "Bên là 4 Kim, 4 Nguyệt, tứ diện bốn bề.\n",
            "\n",
            "Trước là Vương Quan, sau là Vương,\n",
            "\n",
            "Năm vương cũng chẳng nặng cân vàng.\n",
            "\n",
            "Trước là Thúc Sinh, sau là Sinh,\n",
            "\n",
            "Nhớ khi nước đã xa, khi đất还 gần!\n",
            "\n",
            "Tú Bà ai nỡ giục giã,\n",
            "\n",
            "Lỡ chước vàng chè rắp lòng trao tay.\n",
            "\n",
            "Lỡ chước oan nghiệt thế này,\n",
            "\n",
            "Chẳng vò mà rối, chẳng đắp mà sầu!\n",
            "\n",
            "Chúa xuân để thuyền có điều,\n",
            "\n",
            "Đem vào là che chực sao chè?\n",
            "\n",
            "Đem vào là che chỞ cho vừa,\n",
            "\n",
            "Làm cho thấy nàng cũng đang nghi.\n",
            "\n",
            "Bình thệ từ quan chỉ bề,\n",
            "\n",
            "Sinh ra bể thẳm, mới rao tâng công.\n",
            "\n",
            "Bực mình nàng mới thưa:\n"
          ]
        }
      ],
      "source": [
        "# Generate text using the best model\n",
        "input_text = \"Nếu em\"\n",
        "inputs = tokenizer(input_text, return_tensors=\"pt\").to(best_model.device)\n",
        "\n",
        "with torch.no_grad():\n",
        "    outputs = best_model.generate(\n",
        "        **inputs,\n",
        "        max_length=300,\n",
        "        num_return_sequences=1,\n",
        "        temperature=0.7,\n",
        "        top_p=0.95,\n",
        "        do_sample=True,\n",
        "        pad_token_id=tokenizer.eos_token_id\n",
        "    )\n",
        "\n",
        "generated_text = tokenizer.decode(outputs[0], skip_special_tokens=True)\n",
        "print(\"Generated text from the best model:\")\n",
        "print(generated_text)\n"
      ]
    },
    {
      "cell_type": "code",
      "execution_count": 31,
      "id": "6750472b-8e30-4cf9-ba42-bfd706055177",
      "metadata": {
        "id": "6750472b-8e30-4cf9-ba42-bfd706055177",
        "colab": {
          "base_uri": "https://localhost:8080/",
          "height": 166,
          "referenced_widgets": [
            "7ac7fe37f30c46eb8418b77faff5e8a6",
            "f6e828007fce49e480e4aa4fa2a643a0",
            "825bd2e7cc9048df96edc67c19f81a26",
            "e4db222e7cc74b63a6d2b8bdf14f3ab4",
            "1fa54f5db239499fa9e22b4b8c64f689",
            "060a8a363a2f4eefb096a0dd2aa2e531",
            "8c22c18cb7ae4e9392e0310031c1b857",
            "4cb69d9306694c3ba69cf460b46856fa",
            "26c7e7959d8c4d7eb2aff42457517fab",
            "261cef28cac0426d87c3c206152513aa",
            "21705070f8b3431ca1e242231d1dd5ad",
            "92297f2bdbaa43308005525135b2e1cd",
            "af597c3e3c9843888ed44d974c104348",
            "519a5e52c86d45af94eb3d86a0554bc0",
            "8839245454c4484e95e2fb1a6436211b",
            "b6f911043691428e97bae181dea4e84f",
            "30047977569a43e0937826099d5fdeac",
            "ca49276a97a34806bf99a74d98b99603",
            "ac92ba36c6ae49f0b0486ad5da871928",
            "0fd2bf9c54514ce590016dc1bb3dad31",
            "02f04d291dec4e24b4a762b91dd82f10",
            "b331285a81b643c4af452695937063e9",
            "da139422d4634736b529556f4eb52535",
            "6eda63c7b658487c8288c350e2c4ecb5",
            "a2fb89acf3644655ad559b40a86fd6ec",
            "2c1ebb4a6fea43f98140831f5cd5f38e",
            "3bcb9a5a4e054b5c9f960222446681b9",
            "2ebfdb8286c144cdb127ce13f3dde82f",
            "caf160038ebe47a7813dd469cea98a8e",
            "5f3a8151490a438ca3c722431f22033b",
            "2a1a1452a3d24df5b457c68158f7b855",
            "06e4902b55cd4894aef80f307f88292e",
            "60dc6a7d2b7240bcb6da4ddc39c1b374"
          ]
        },
        "outputId": "dccf1ba7-049d-4273-e2ff-e1ea0100d263"
      },
      "outputs": [
        {
          "output_type": "display_data",
          "data": {
            "text/plain": [
              "training_args.bin:   0%|          | 0.00/5.18k [00:00<?, ?B/s]"
            ],
            "application/vnd.jupyter.widget-view+json": {
              "version_major": 2,
              "version_minor": 0,
              "model_id": "7ac7fe37f30c46eb8418b77faff5e8a6"
            }
          },
          "metadata": {}
        },
        {
          "output_type": "display_data",
          "data": {
            "text/plain": [
              "model.safetensors:   0%|          | 0.00/2.47G [00:00<?, ?B/s]"
            ],
            "application/vnd.jupyter.widget-view+json": {
              "version_major": 2,
              "version_minor": 0,
              "model_id": "92297f2bdbaa43308005525135b2e1cd"
            }
          },
          "metadata": {}
        },
        {
          "output_type": "display_data",
          "data": {
            "text/plain": [
              "Upload 2 LFS files:   0%|          | 0/2 [00:00<?, ?it/s]"
            ],
            "application/vnd.jupyter.widget-view+json": {
              "version_major": 2,
              "version_minor": 0,
              "model_id": "da139422d4634736b529556f4eb52535"
            }
          },
          "metadata": {}
        },
        {
          "output_type": "execute_result",
          "data": {
            "text/plain": [
              "CommitInfo(commit_url='https://huggingface.co/Dat1710/llama-pretrained/commit/317d5fe7546f9bc26ae3a38ebf9ee42fcd89e04d', commit_message='Training completed!', commit_description='', oid='317d5fe7546f9bc26ae3a38ebf9ee42fcd89e04d', pr_url=None, repo_url=RepoUrl('https://huggingface.co/Dat1710/llama-pretrained', endpoint='https://huggingface.co', repo_type='model', repo_id='Dat1710/llama-pretrained'), pr_revision=None, pr_num=None)"
            ],
            "application/vnd.google.colaboratory.intrinsic+json": {
              "type": "string"
            }
          },
          "metadata": {},
          "execution_count": 31
        }
      ],
      "source": [
        "trainer.push_to_hub(commit_message = \"Training completed!\")\n"
      ]
    },
    {
      "cell_type": "code",
      "source": [
        "from transformers import pipeline\n",
        "# Change `Dat1710` to your Hub username\n",
        "model_id = \"Dat1710/llama-pretrained\"\n",
        "classifier = pipeline(\"text2text-generation\", model=model_id)"
      ],
      "metadata": {
        "colab": {
          "base_uri": "https://localhost:8080/",
          "height": 371,
          "referenced_widgets": [
            "478c16429e224f899e000b6d9bdb3b56",
            "6f7bb4b29d5d4e76b1445347f787dcc8",
            "16c32704ae674f8d92868bc98a37d088",
            "51c719d6a8734655b213f86e83e470ac",
            "0aac2a1228144f5d997e751503df2d00",
            "f0350f4bc9f146a99d8fa673f0ac6425",
            "f0db6e7ea8a041be97efa8a766e305fc",
            "6d3e68035eea401f9190843eee83608e",
            "36ddb022f2b7444b9280fac6c653b960",
            "d8ce920e19e9490987835fe65b3e90b7",
            "18712da3a3d6418ebd12f9aba0343a67",
            "b99e510286354d3aa4186ceff928938c",
            "4757c9c339fa48b298fab8d5e2797184",
            "7aa65c011a2641018fe0a42d0063e6b9",
            "56530ea3ee9c4a9b9582c2f0dbdac3ff",
            "ab24bdd91dac44a4ae2dec77365f3b70",
            "529eaf0d6c4848f38bf1827da198d286",
            "b1d41a8fc009463d8e12a96dd9bcd29d",
            "b270ccdcc83641f8b9442a79ec3497b7",
            "90bd9cf74fc84f2f8a6bf9c6ad8eab1c",
            "eac1b1929ffc4fb0924819ba39403ea6",
            "eb00f0e9d03346bb905846d1c02fc3d8",
            "3c40fe9c7c474d8b8b7788778aeeed8d",
            "6857b864cd4a4b8b81c279c30fa19525",
            "ab7ab04d41f14286a401d6d1125732e9",
            "f73401cee3774c7d90ba353b0383f8c2",
            "fdb31bfaa4e1425c9f673aa838337b6d",
            "12bb3a5e9f344719b27d95c8b22aa9cc",
            "7c3a879110d548b492fbcdc9ce10d295",
            "467bd5e5113a49a4be6755248d7790d2",
            "53c45c93229d42229c75c57d8a7ad865",
            "686d1a1bcabc4d2b917beb3c11ec959a",
            "03784539bf684f89a906d5f3a3ac6b10",
            "e1e34170998c4bc18d514463ca5ae362",
            "644084997f384a34a217603b9890cd43",
            "80b931e1dfbb4d299e238c57bb60e4c3",
            "39cd9178dacc4689b9abcabd206ed721",
            "9cb763c8906c4cdca5ff7c7c38c7530e",
            "f657f73ba9da445493eab226c56588ea",
            "426f7bf1784549db85a6b2f50562f7db",
            "d049cb6af70640d8a49653a622f39cba",
            "1fcab37f12f64529aae592edf6899d2f",
            "2835f4fe5e4d4c0092c57b430a3ebe06",
            "8eab4a49874e47dba39eb10419e682af",
            "61786092b6db4507b33a0eb78a753867",
            "abe27231ae334abd9baec5038759894d",
            "ce9c8a9ee6c746748bb792e33e92e7f9",
            "e9e678f055b94935b843d67eab83a075",
            "6e222963172e4b2fb56ddaaa9f349a59",
            "7014fed745e645f18c1eda3f25044591",
            "956c73c82fbb42ccbce4f18637dadd3a",
            "94c4503ad3c64c06aab035931cdeb109",
            "a8cabf46fd7c4c74a9d020aeae3765a2",
            "fc3823e7ef284f05961906cdde9f6db9",
            "23b7cc5e564646d3a8fa834283b4e634",
            "cf8dae331db34a829d62ac0b783782a7",
            "e52d325ea4d74575b62f5994d1363cc7",
            "9417b5078a9d45b6a6d6a023439a2040",
            "f9d55dd8aaeb4163b549f54e18940530",
            "8ee152ad235d4b19a76f79c3f3cc2610",
            "ca96ebc23ce34b2aab98b0868bb776bf",
            "d5f3151a546e45df84969ad43c269d89",
            "516aadbc50e24193afa5969dbdf6755a",
            "818706f1d06f4859a632df9a54d466a8",
            "b6385bbb29e144ae81e13fbf2d89bbf6",
            "d3ff7a8030a642f09c83b68bbcbd72b6"
          ]
        },
        "id": "nB5WRVzua-9f",
        "outputId": "71a68748-c731-4d6d-d90f-3d110bc21696"
      },
      "id": "nB5WRVzua-9f",
      "execution_count": 1,
      "outputs": [
        {
          "output_type": "stream",
          "name": "stderr",
          "text": [
            "/usr/local/lib/python3.11/dist-packages/huggingface_hub/utils/_auth.py:94: UserWarning: \n",
            "The secret `HF_TOKEN` does not exist in your Colab secrets.\n",
            "To authenticate with the Hugging Face Hub, create a token in your settings tab (https://huggingface.co/settings/tokens), set it as secret in your Google Colab and restart your session.\n",
            "You will be able to reuse this secret in all of your notebooks.\n",
            "Please note that authentication is recommended but still optional to access public models or datasets.\n",
            "  warnings.warn(\n"
          ]
        },
        {
          "output_type": "display_data",
          "data": {
            "text/plain": [
              "config.json:   0%|          | 0.00/884 [00:00<?, ?B/s]"
            ],
            "application/vnd.jupyter.widget-view+json": {
              "version_major": 2,
              "version_minor": 0,
              "model_id": "478c16429e224f899e000b6d9bdb3b56"
            }
          },
          "metadata": {}
        },
        {
          "output_type": "display_data",
          "data": {
            "text/plain": [
              "model.safetensors:   0%|          | 0.00/2.47G [00:00<?, ?B/s]"
            ],
            "application/vnd.jupyter.widget-view+json": {
              "version_major": 2,
              "version_minor": 0,
              "model_id": "b99e510286354d3aa4186ceff928938c"
            }
          },
          "metadata": {}
        },
        {
          "output_type": "display_data",
          "data": {
            "text/plain": [
              "generation_config.json:   0%|          | 0.00/180 [00:00<?, ?B/s]"
            ],
            "application/vnd.jupyter.widget-view+json": {
              "version_major": 2,
              "version_minor": 0,
              "model_id": "3c40fe9c7c474d8b8b7788778aeeed8d"
            }
          },
          "metadata": {}
        },
        {
          "output_type": "display_data",
          "data": {
            "text/plain": [
              "tokenizer_config.json:   0%|          | 0.00/50.5k [00:00<?, ?B/s]"
            ],
            "application/vnd.jupyter.widget-view+json": {
              "version_major": 2,
              "version_minor": 0,
              "model_id": "e1e34170998c4bc18d514463ca5ae362"
            }
          },
          "metadata": {}
        },
        {
          "output_type": "display_data",
          "data": {
            "text/plain": [
              "tokenizer.json:   0%|          | 0.00/9.09M [00:00<?, ?B/s]"
            ],
            "application/vnd.jupyter.widget-view+json": {
              "version_major": 2,
              "version_minor": 0,
              "model_id": "61786092b6db4507b33a0eb78a753867"
            }
          },
          "metadata": {}
        },
        {
          "output_type": "display_data",
          "data": {
            "text/plain": [
              "special_tokens_map.json:   0%|          | 0.00/335 [00:00<?, ?B/s]"
            ],
            "application/vnd.jupyter.widget-view+json": {
              "version_major": 2,
              "version_minor": 0,
              "model_id": "cf8dae331db34a829d62ac0b783782a7"
            }
          },
          "metadata": {}
        },
        {
          "output_type": "stream",
          "name": "stderr",
          "text": [
            "Device set to use cpu\n",
            "The model 'LlamaForCausalLM' is not supported for text2text-generation. Supported models are ['BartForConditionalGeneration', 'BigBirdPegasusForConditionalGeneration', 'BlenderbotForConditionalGeneration', 'BlenderbotSmallForConditionalGeneration', 'EncoderDecoderModel', 'FSMTForConditionalGeneration', 'GPTSanJapaneseForConditionalGeneration', 'LEDForConditionalGeneration', 'LongT5ForConditionalGeneration', 'M2M100ForConditionalGeneration', 'MarianMTModel', 'MBartForConditionalGeneration', 'MT5ForConditionalGeneration', 'MvpForConditionalGeneration', 'NllbMoeForConditionalGeneration', 'PegasusForConditionalGeneration', 'PegasusXForConditionalGeneration', 'PLBartForConditionalGeneration', 'ProphetNetForConditionalGeneration', 'Qwen2AudioForConditionalGeneration', 'SeamlessM4TForTextToText', 'SeamlessM4Tv2ForTextToText', 'SwitchTransformersForConditionalGeneration', 'T5ForConditionalGeneration', 'UMT5ForConditionalGeneration', 'XLMProphetNetForConditionalGeneration'].\n"
          ]
        }
      ]
    },
    {
      "cell_type": "code",
      "source": [
        "text = \"Trăm năm\"\n",
        "preds = classifier(\n",
        "    text,\n",
        "    max_length=100,               # Giới hạn độ dài đầu ra\n",
        "    num_return_sequences=1,       # Trả về 3 kết quả khác nhau\n",
        "    do_sample=True,               # Bật sampling để kết quả không lặp\n",
        "    temperature=0.9,              # Điều chỉnh độ ngẫu nhiên (0.7–1.0 là hợp lý)\n",
        ")\n",
        "\n",
        "for i, pred in enumerate(preds):\n",
        "    print(f\"[Kết quả {i+1}]: {pred['generated_text']}\")"
      ],
      "metadata": {
        "colab": {
          "base_uri": "https://localhost:8080/"
        },
        "id": "ZWf62iMVcGyQ",
        "outputId": "22f976ec-ac48-4d5d-d6dc-42a8e6264d11"
      },
      "id": "ZWf62iMVcGyQ",
      "execution_count": 2,
      "outputs": [
        {
          "output_type": "stream",
          "name": "stdout",
          "text": [
            "[Kết quả 1]: Trăm năm để một tấm lòng từ đây.\n",
            "\n",
            "Lòng từ đã ngỏ cửa đóng,\n",
            "\n",
            "Nàng từ liễu gỡ đến xuân đường,\n",
            "\n",
            "Chàng theo mòn mỏi bước ra,\n",
            "\n",
            "Biết đâu hết lý hẹp hòi mày,\n",
            "\n",
            "Biết đâu thỏ được lớn mà non?\n",
            "\n",
            "Biết đâu khôn ngoan mà kẻo xuân?\n",
            "\n",
            "Thôi thuyền thôi chăng mới rồi,\n",
            "\n",
            "Gọi là sinh trường kỳ lệ nhân thường\n"
          ]
        }
      ]
    }
  ],
  "metadata": {
    "kernelspec": {
      "display_name": "Python 3",
      "name": "python3"
    },
    "language_info": {
      "codemirror_mode": {
        "name": "ipython",
        "version": 3
      },
      "file_extension": ".py",
      "mimetype": "text/x-python",
      "name": "python",
      "nbconvert_exporter": "python",
      "pygments_lexer": "ipython3",
      "version": "3.10.14"
    },
    "colab": {
      "provenance": [],
      "gpuType": "T4"
    },
    "accelerator": "GPU",
    "widgets": {
      "application/vnd.jupyter.widget-state+json": {
        "90c270793b344d45974eeb8b25ef2270": {
          "model_module": "@jupyter-widgets/controls",
          "model_name": "HBoxModel",
          "model_module_version": "1.5.0",
          "state": {
            "_dom_classes": [],
            "_model_module": "@jupyter-widgets/controls",
            "_model_module_version": "1.5.0",
            "_model_name": "HBoxModel",
            "_view_count": null,
            "_view_module": "@jupyter-widgets/controls",
            "_view_module_version": "1.5.0",
            "_view_name": "HBoxView",
            "box_style": "",
            "children": [
              "IPY_MODEL_9cf1714d5ae04904b80cb445ccbef9ff",
              "IPY_MODEL_cb8402c412b4468a9537b4440d6e0f2d",
              "IPY_MODEL_6d3f1cfa33cc46b88509eb79b994531d"
            ],
            "layout": "IPY_MODEL_dc7c9350b8aa44738635363e44ee917a"
          }
        },
        "9cf1714d5ae04904b80cb445ccbef9ff": {
          "model_module": "@jupyter-widgets/controls",
          "model_name": "HTMLModel",
          "model_module_version": "1.5.0",
          "state": {
            "_dom_classes": [],
            "_model_module": "@jupyter-widgets/controls",
            "_model_module_version": "1.5.0",
            "_model_name": "HTMLModel",
            "_view_count": null,
            "_view_module": "@jupyter-widgets/controls",
            "_view_module_version": "1.5.0",
            "_view_name": "HTMLView",
            "description": "",
            "description_tooltip": null,
            "layout": "IPY_MODEL_13019808768e4b9594eb316ecf3b1f5e",
            "placeholder": "​",
            "style": "IPY_MODEL_f29f4063c4314f86b6cc82ed0ace7afa",
            "value": "Map: 100%"
          }
        },
        "cb8402c412b4468a9537b4440d6e0f2d": {
          "model_module": "@jupyter-widgets/controls",
          "model_name": "FloatProgressModel",
          "model_module_version": "1.5.0",
          "state": {
            "_dom_classes": [],
            "_model_module": "@jupyter-widgets/controls",
            "_model_module_version": "1.5.0",
            "_model_name": "FloatProgressModel",
            "_view_count": null,
            "_view_module": "@jupyter-widgets/controls",
            "_view_module_version": "1.5.0",
            "_view_name": "ProgressView",
            "bar_style": "success",
            "description": "",
            "description_tooltip": null,
            "layout": "IPY_MODEL_5d3e3c4b4a4242b89ecb0a0ad23bd201",
            "max": 2599,
            "min": 0,
            "orientation": "horizontal",
            "style": "IPY_MODEL_498649bbc02041dc96a1f7a75e24f0f7",
            "value": 2599
          }
        },
        "6d3f1cfa33cc46b88509eb79b994531d": {
          "model_module": "@jupyter-widgets/controls",
          "model_name": "HTMLModel",
          "model_module_version": "1.5.0",
          "state": {
            "_dom_classes": [],
            "_model_module": "@jupyter-widgets/controls",
            "_model_module_version": "1.5.0",
            "_model_name": "HTMLModel",
            "_view_count": null,
            "_view_module": "@jupyter-widgets/controls",
            "_view_module_version": "1.5.0",
            "_view_name": "HTMLView",
            "description": "",
            "description_tooltip": null,
            "layout": "IPY_MODEL_6a537f6372e246e897b808291bf681f9",
            "placeholder": "​",
            "style": "IPY_MODEL_926f978804264df983e21ede16a7a444",
            "value": " 2599/2599 [00:01&lt;00:00, 1900.15 examples/s]"
          }
        },
        "dc7c9350b8aa44738635363e44ee917a": {
          "model_module": "@jupyter-widgets/base",
          "model_name": "LayoutModel",
          "model_module_version": "1.2.0",
          "state": {
            "_model_module": "@jupyter-widgets/base",
            "_model_module_version": "1.2.0",
            "_model_name": "LayoutModel",
            "_view_count": null,
            "_view_module": "@jupyter-widgets/base",
            "_view_module_version": "1.2.0",
            "_view_name": "LayoutView",
            "align_content": null,
            "align_items": null,
            "align_self": null,
            "border": null,
            "bottom": null,
            "display": null,
            "flex": null,
            "flex_flow": null,
            "grid_area": null,
            "grid_auto_columns": null,
            "grid_auto_flow": null,
            "grid_auto_rows": null,
            "grid_column": null,
            "grid_gap": null,
            "grid_row": null,
            "grid_template_areas": null,
            "grid_template_columns": null,
            "grid_template_rows": null,
            "height": null,
            "justify_content": null,
            "justify_items": null,
            "left": null,
            "margin": null,
            "max_height": null,
            "max_width": null,
            "min_height": null,
            "min_width": null,
            "object_fit": null,
            "object_position": null,
            "order": null,
            "overflow": null,
            "overflow_x": null,
            "overflow_y": null,
            "padding": null,
            "right": null,
            "top": null,
            "visibility": null,
            "width": null
          }
        },
        "13019808768e4b9594eb316ecf3b1f5e": {
          "model_module": "@jupyter-widgets/base",
          "model_name": "LayoutModel",
          "model_module_version": "1.2.0",
          "state": {
            "_model_module": "@jupyter-widgets/base",
            "_model_module_version": "1.2.0",
            "_model_name": "LayoutModel",
            "_view_count": null,
            "_view_module": "@jupyter-widgets/base",
            "_view_module_version": "1.2.0",
            "_view_name": "LayoutView",
            "align_content": null,
            "align_items": null,
            "align_self": null,
            "border": null,
            "bottom": null,
            "display": null,
            "flex": null,
            "flex_flow": null,
            "grid_area": null,
            "grid_auto_columns": null,
            "grid_auto_flow": null,
            "grid_auto_rows": null,
            "grid_column": null,
            "grid_gap": null,
            "grid_row": null,
            "grid_template_areas": null,
            "grid_template_columns": null,
            "grid_template_rows": null,
            "height": null,
            "justify_content": null,
            "justify_items": null,
            "left": null,
            "margin": null,
            "max_height": null,
            "max_width": null,
            "min_height": null,
            "min_width": null,
            "object_fit": null,
            "object_position": null,
            "order": null,
            "overflow": null,
            "overflow_x": null,
            "overflow_y": null,
            "padding": null,
            "right": null,
            "top": null,
            "visibility": null,
            "width": null
          }
        },
        "f29f4063c4314f86b6cc82ed0ace7afa": {
          "model_module": "@jupyter-widgets/controls",
          "model_name": "DescriptionStyleModel",
          "model_module_version": "1.5.0",
          "state": {
            "_model_module": "@jupyter-widgets/controls",
            "_model_module_version": "1.5.0",
            "_model_name": "DescriptionStyleModel",
            "_view_count": null,
            "_view_module": "@jupyter-widgets/base",
            "_view_module_version": "1.2.0",
            "_view_name": "StyleView",
            "description_width": ""
          }
        },
        "5d3e3c4b4a4242b89ecb0a0ad23bd201": {
          "model_module": "@jupyter-widgets/base",
          "model_name": "LayoutModel",
          "model_module_version": "1.2.0",
          "state": {
            "_model_module": "@jupyter-widgets/base",
            "_model_module_version": "1.2.0",
            "_model_name": "LayoutModel",
            "_view_count": null,
            "_view_module": "@jupyter-widgets/base",
            "_view_module_version": "1.2.0",
            "_view_name": "LayoutView",
            "align_content": null,
            "align_items": null,
            "align_self": null,
            "border": null,
            "bottom": null,
            "display": null,
            "flex": null,
            "flex_flow": null,
            "grid_area": null,
            "grid_auto_columns": null,
            "grid_auto_flow": null,
            "grid_auto_rows": null,
            "grid_column": null,
            "grid_gap": null,
            "grid_row": null,
            "grid_template_areas": null,
            "grid_template_columns": null,
            "grid_template_rows": null,
            "height": null,
            "justify_content": null,
            "justify_items": null,
            "left": null,
            "margin": null,
            "max_height": null,
            "max_width": null,
            "min_height": null,
            "min_width": null,
            "object_fit": null,
            "object_position": null,
            "order": null,
            "overflow": null,
            "overflow_x": null,
            "overflow_y": null,
            "padding": null,
            "right": null,
            "top": null,
            "visibility": null,
            "width": null
          }
        },
        "498649bbc02041dc96a1f7a75e24f0f7": {
          "model_module": "@jupyter-widgets/controls",
          "model_name": "ProgressStyleModel",
          "model_module_version": "1.5.0",
          "state": {
            "_model_module": "@jupyter-widgets/controls",
            "_model_module_version": "1.5.0",
            "_model_name": "ProgressStyleModel",
            "_view_count": null,
            "_view_module": "@jupyter-widgets/base",
            "_view_module_version": "1.2.0",
            "_view_name": "StyleView",
            "bar_color": null,
            "description_width": ""
          }
        },
        "6a537f6372e246e897b808291bf681f9": {
          "model_module": "@jupyter-widgets/base",
          "model_name": "LayoutModel",
          "model_module_version": "1.2.0",
          "state": {
            "_model_module": "@jupyter-widgets/base",
            "_model_module_version": "1.2.0",
            "_model_name": "LayoutModel",
            "_view_count": null,
            "_view_module": "@jupyter-widgets/base",
            "_view_module_version": "1.2.0",
            "_view_name": "LayoutView",
            "align_content": null,
            "align_items": null,
            "align_self": null,
            "border": null,
            "bottom": null,
            "display": null,
            "flex": null,
            "flex_flow": null,
            "grid_area": null,
            "grid_auto_columns": null,
            "grid_auto_flow": null,
            "grid_auto_rows": null,
            "grid_column": null,
            "grid_gap": null,
            "grid_row": null,
            "grid_template_areas": null,
            "grid_template_columns": null,
            "grid_template_rows": null,
            "height": null,
            "justify_content": null,
            "justify_items": null,
            "left": null,
            "margin": null,
            "max_height": null,
            "max_width": null,
            "min_height": null,
            "min_width": null,
            "object_fit": null,
            "object_position": null,
            "order": null,
            "overflow": null,
            "overflow_x": null,
            "overflow_y": null,
            "padding": null,
            "right": null,
            "top": null,
            "visibility": null,
            "width": null
          }
        },
        "926f978804264df983e21ede16a7a444": {
          "model_module": "@jupyter-widgets/controls",
          "model_name": "DescriptionStyleModel",
          "model_module_version": "1.5.0",
          "state": {
            "_model_module": "@jupyter-widgets/controls",
            "_model_module_version": "1.5.0",
            "_model_name": "DescriptionStyleModel",
            "_view_count": null,
            "_view_module": "@jupyter-widgets/base",
            "_view_module_version": "1.2.0",
            "_view_name": "StyleView",
            "description_width": ""
          }
        },
        "b492c0c3316349b5bdd22ed64bd26628": {
          "model_module": "@jupyter-widgets/controls",
          "model_name": "HBoxModel",
          "model_module_version": "1.5.0",
          "state": {
            "_dom_classes": [],
            "_model_module": "@jupyter-widgets/controls",
            "_model_module_version": "1.5.0",
            "_model_name": "HBoxModel",
            "_view_count": null,
            "_view_module": "@jupyter-widgets/controls",
            "_view_module_version": "1.5.0",
            "_view_name": "HBoxView",
            "box_style": "",
            "children": [
              "IPY_MODEL_092de34e00524cba93bfbda6c9f71870",
              "IPY_MODEL_baf66939b46747b4b655e7d777838176",
              "IPY_MODEL_e7d3a31f0f2143d2967aa36cb45e736e"
            ],
            "layout": "IPY_MODEL_77901b1758f2470bbaf53d924d600ad8"
          }
        },
        "092de34e00524cba93bfbda6c9f71870": {
          "model_module": "@jupyter-widgets/controls",
          "model_name": "HTMLModel",
          "model_module_version": "1.5.0",
          "state": {
            "_dom_classes": [],
            "_model_module": "@jupyter-widgets/controls",
            "_model_module_version": "1.5.0",
            "_model_name": "HTMLModel",
            "_view_count": null,
            "_view_module": "@jupyter-widgets/controls",
            "_view_module_version": "1.5.0",
            "_view_name": "HTMLView",
            "description": "",
            "description_tooltip": null,
            "layout": "IPY_MODEL_f36fc164aeb3485483577d0ece9ac94c",
            "placeholder": "​",
            "style": "IPY_MODEL_91d97723fc73451d8fb966118a30420c",
            "value": "Map: 100%"
          }
        },
        "baf66939b46747b4b655e7d777838176": {
          "model_module": "@jupyter-widgets/controls",
          "model_name": "FloatProgressModel",
          "model_module_version": "1.5.0",
          "state": {
            "_dom_classes": [],
            "_model_module": "@jupyter-widgets/controls",
            "_model_module_version": "1.5.0",
            "_model_name": "FloatProgressModel",
            "_view_count": null,
            "_view_module": "@jupyter-widgets/controls",
            "_view_module_version": "1.5.0",
            "_view_name": "ProgressView",
            "bar_style": "success",
            "description": "",
            "description_tooltip": null,
            "layout": "IPY_MODEL_dd9fdd3fcdf443ac97af4128cef4fc1c",
            "max": 650,
            "min": 0,
            "orientation": "horizontal",
            "style": "IPY_MODEL_b7a0429b6fd24c44a78478265ea1bc54",
            "value": 650
          }
        },
        "e7d3a31f0f2143d2967aa36cb45e736e": {
          "model_module": "@jupyter-widgets/controls",
          "model_name": "HTMLModel",
          "model_module_version": "1.5.0",
          "state": {
            "_dom_classes": [],
            "_model_module": "@jupyter-widgets/controls",
            "_model_module_version": "1.5.0",
            "_model_name": "HTMLModel",
            "_view_count": null,
            "_view_module": "@jupyter-widgets/controls",
            "_view_module_version": "1.5.0",
            "_view_name": "HTMLView",
            "description": "",
            "description_tooltip": null,
            "layout": "IPY_MODEL_8fc77c0cc4034a1ca895294b7444c72b",
            "placeholder": "​",
            "style": "IPY_MODEL_c4da76f8f4dd490596766650c50251d1",
            "value": " 650/650 [00:00&lt;00:00, 2528.24 examples/s]"
          }
        },
        "77901b1758f2470bbaf53d924d600ad8": {
          "model_module": "@jupyter-widgets/base",
          "model_name": "LayoutModel",
          "model_module_version": "1.2.0",
          "state": {
            "_model_module": "@jupyter-widgets/base",
            "_model_module_version": "1.2.0",
            "_model_name": "LayoutModel",
            "_view_count": null,
            "_view_module": "@jupyter-widgets/base",
            "_view_module_version": "1.2.0",
            "_view_name": "LayoutView",
            "align_content": null,
            "align_items": null,
            "align_self": null,
            "border": null,
            "bottom": null,
            "display": null,
            "flex": null,
            "flex_flow": null,
            "grid_area": null,
            "grid_auto_columns": null,
            "grid_auto_flow": null,
            "grid_auto_rows": null,
            "grid_column": null,
            "grid_gap": null,
            "grid_row": null,
            "grid_template_areas": null,
            "grid_template_columns": null,
            "grid_template_rows": null,
            "height": null,
            "justify_content": null,
            "justify_items": null,
            "left": null,
            "margin": null,
            "max_height": null,
            "max_width": null,
            "min_height": null,
            "min_width": null,
            "object_fit": null,
            "object_position": null,
            "order": null,
            "overflow": null,
            "overflow_x": null,
            "overflow_y": null,
            "padding": null,
            "right": null,
            "top": null,
            "visibility": null,
            "width": null
          }
        },
        "f36fc164aeb3485483577d0ece9ac94c": {
          "model_module": "@jupyter-widgets/base",
          "model_name": "LayoutModel",
          "model_module_version": "1.2.0",
          "state": {
            "_model_module": "@jupyter-widgets/base",
            "_model_module_version": "1.2.0",
            "_model_name": "LayoutModel",
            "_view_count": null,
            "_view_module": "@jupyter-widgets/base",
            "_view_module_version": "1.2.0",
            "_view_name": "LayoutView",
            "align_content": null,
            "align_items": null,
            "align_self": null,
            "border": null,
            "bottom": null,
            "display": null,
            "flex": null,
            "flex_flow": null,
            "grid_area": null,
            "grid_auto_columns": null,
            "grid_auto_flow": null,
            "grid_auto_rows": null,
            "grid_column": null,
            "grid_gap": null,
            "grid_row": null,
            "grid_template_areas": null,
            "grid_template_columns": null,
            "grid_template_rows": null,
            "height": null,
            "justify_content": null,
            "justify_items": null,
            "left": null,
            "margin": null,
            "max_height": null,
            "max_width": null,
            "min_height": null,
            "min_width": null,
            "object_fit": null,
            "object_position": null,
            "order": null,
            "overflow": null,
            "overflow_x": null,
            "overflow_y": null,
            "padding": null,
            "right": null,
            "top": null,
            "visibility": null,
            "width": null
          }
        },
        "91d97723fc73451d8fb966118a30420c": {
          "model_module": "@jupyter-widgets/controls",
          "model_name": "DescriptionStyleModel",
          "model_module_version": "1.5.0",
          "state": {
            "_model_module": "@jupyter-widgets/controls",
            "_model_module_version": "1.5.0",
            "_model_name": "DescriptionStyleModel",
            "_view_count": null,
            "_view_module": "@jupyter-widgets/base",
            "_view_module_version": "1.2.0",
            "_view_name": "StyleView",
            "description_width": ""
          }
        },
        "dd9fdd3fcdf443ac97af4128cef4fc1c": {
          "model_module": "@jupyter-widgets/base",
          "model_name": "LayoutModel",
          "model_module_version": "1.2.0",
          "state": {
            "_model_module": "@jupyter-widgets/base",
            "_model_module_version": "1.2.0",
            "_model_name": "LayoutModel",
            "_view_count": null,
            "_view_module": "@jupyter-widgets/base",
            "_view_module_version": "1.2.0",
            "_view_name": "LayoutView",
            "align_content": null,
            "align_items": null,
            "align_self": null,
            "border": null,
            "bottom": null,
            "display": null,
            "flex": null,
            "flex_flow": null,
            "grid_area": null,
            "grid_auto_columns": null,
            "grid_auto_flow": null,
            "grid_auto_rows": null,
            "grid_column": null,
            "grid_gap": null,
            "grid_row": null,
            "grid_template_areas": null,
            "grid_template_columns": null,
            "grid_template_rows": null,
            "height": null,
            "justify_content": null,
            "justify_items": null,
            "left": null,
            "margin": null,
            "max_height": null,
            "max_width": null,
            "min_height": null,
            "min_width": null,
            "object_fit": null,
            "object_position": null,
            "order": null,
            "overflow": null,
            "overflow_x": null,
            "overflow_y": null,
            "padding": null,
            "right": null,
            "top": null,
            "visibility": null,
            "width": null
          }
        },
        "b7a0429b6fd24c44a78478265ea1bc54": {
          "model_module": "@jupyter-widgets/controls",
          "model_name": "ProgressStyleModel",
          "model_module_version": "1.5.0",
          "state": {
            "_model_module": "@jupyter-widgets/controls",
            "_model_module_version": "1.5.0",
            "_model_name": "ProgressStyleModel",
            "_view_count": null,
            "_view_module": "@jupyter-widgets/base",
            "_view_module_version": "1.2.0",
            "_view_name": "StyleView",
            "bar_color": null,
            "description_width": ""
          }
        },
        "8fc77c0cc4034a1ca895294b7444c72b": {
          "model_module": "@jupyter-widgets/base",
          "model_name": "LayoutModel",
          "model_module_version": "1.2.0",
          "state": {
            "_model_module": "@jupyter-widgets/base",
            "_model_module_version": "1.2.0",
            "_model_name": "LayoutModel",
            "_view_count": null,
            "_view_module": "@jupyter-widgets/base",
            "_view_module_version": "1.2.0",
            "_view_name": "LayoutView",
            "align_content": null,
            "align_items": null,
            "align_self": null,
            "border": null,
            "bottom": null,
            "display": null,
            "flex": null,
            "flex_flow": null,
            "grid_area": null,
            "grid_auto_columns": null,
            "grid_auto_flow": null,
            "grid_auto_rows": null,
            "grid_column": null,
            "grid_gap": null,
            "grid_row": null,
            "grid_template_areas": null,
            "grid_template_columns": null,
            "grid_template_rows": null,
            "height": null,
            "justify_content": null,
            "justify_items": null,
            "left": null,
            "margin": null,
            "max_height": null,
            "max_width": null,
            "min_height": null,
            "min_width": null,
            "object_fit": null,
            "object_position": null,
            "order": null,
            "overflow": null,
            "overflow_x": null,
            "overflow_y": null,
            "padding": null,
            "right": null,
            "top": null,
            "visibility": null,
            "width": null
          }
        },
        "c4da76f8f4dd490596766650c50251d1": {
          "model_module": "@jupyter-widgets/controls",
          "model_name": "DescriptionStyleModel",
          "model_module_version": "1.5.0",
          "state": {
            "_model_module": "@jupyter-widgets/controls",
            "_model_module_version": "1.5.0",
            "_model_name": "DescriptionStyleModel",
            "_view_count": null,
            "_view_module": "@jupyter-widgets/base",
            "_view_module_version": "1.2.0",
            "_view_name": "StyleView",
            "description_width": ""
          }
        },
        "7ac7fe37f30c46eb8418b77faff5e8a6": {
          "model_module": "@jupyter-widgets/controls",
          "model_name": "HBoxModel",
          "model_module_version": "1.5.0",
          "state": {
            "_dom_classes": [],
            "_model_module": "@jupyter-widgets/controls",
            "_model_module_version": "1.5.0",
            "_model_name": "HBoxModel",
            "_view_count": null,
            "_view_module": "@jupyter-widgets/controls",
            "_view_module_version": "1.5.0",
            "_view_name": "HBoxView",
            "box_style": "",
            "children": [
              "IPY_MODEL_f6e828007fce49e480e4aa4fa2a643a0",
              "IPY_MODEL_825bd2e7cc9048df96edc67c19f81a26",
              "IPY_MODEL_e4db222e7cc74b63a6d2b8bdf14f3ab4"
            ],
            "layout": "IPY_MODEL_1fa54f5db239499fa9e22b4b8c64f689"
          }
        },
        "f6e828007fce49e480e4aa4fa2a643a0": {
          "model_module": "@jupyter-widgets/controls",
          "model_name": "HTMLModel",
          "model_module_version": "1.5.0",
          "state": {
            "_dom_classes": [],
            "_model_module": "@jupyter-widgets/controls",
            "_model_module_version": "1.5.0",
            "_model_name": "HTMLModel",
            "_view_count": null,
            "_view_module": "@jupyter-widgets/controls",
            "_view_module_version": "1.5.0",
            "_view_name": "HTMLView",
            "description": "",
            "description_tooltip": null,
            "layout": "IPY_MODEL_060a8a363a2f4eefb096a0dd2aa2e531",
            "placeholder": "​",
            "style": "IPY_MODEL_8c22c18cb7ae4e9392e0310031c1b857",
            "value": "training_args.bin: 100%"
          }
        },
        "825bd2e7cc9048df96edc67c19f81a26": {
          "model_module": "@jupyter-widgets/controls",
          "model_name": "FloatProgressModel",
          "model_module_version": "1.5.0",
          "state": {
            "_dom_classes": [],
            "_model_module": "@jupyter-widgets/controls",
            "_model_module_version": "1.5.0",
            "_model_name": "FloatProgressModel",
            "_view_count": null,
            "_view_module": "@jupyter-widgets/controls",
            "_view_module_version": "1.5.0",
            "_view_name": "ProgressView",
            "bar_style": "success",
            "description": "",
            "description_tooltip": null,
            "layout": "IPY_MODEL_4cb69d9306694c3ba69cf460b46856fa",
            "max": 5176,
            "min": 0,
            "orientation": "horizontal",
            "style": "IPY_MODEL_26c7e7959d8c4d7eb2aff42457517fab",
            "value": 5176
          }
        },
        "e4db222e7cc74b63a6d2b8bdf14f3ab4": {
          "model_module": "@jupyter-widgets/controls",
          "model_name": "HTMLModel",
          "model_module_version": "1.5.0",
          "state": {
            "_dom_classes": [],
            "_model_module": "@jupyter-widgets/controls",
            "_model_module_version": "1.5.0",
            "_model_name": "HTMLModel",
            "_view_count": null,
            "_view_module": "@jupyter-widgets/controls",
            "_view_module_version": "1.5.0",
            "_view_name": "HTMLView",
            "description": "",
            "description_tooltip": null,
            "layout": "IPY_MODEL_261cef28cac0426d87c3c206152513aa",
            "placeholder": "​",
            "style": "IPY_MODEL_21705070f8b3431ca1e242231d1dd5ad",
            "value": " 5.18k/5.18k [00:00&lt;00:00, 30.6kB/s]"
          }
        },
        "1fa54f5db239499fa9e22b4b8c64f689": {
          "model_module": "@jupyter-widgets/base",
          "model_name": "LayoutModel",
          "model_module_version": "1.2.0",
          "state": {
            "_model_module": "@jupyter-widgets/base",
            "_model_module_version": "1.2.0",
            "_model_name": "LayoutModel",
            "_view_count": null,
            "_view_module": "@jupyter-widgets/base",
            "_view_module_version": "1.2.0",
            "_view_name": "LayoutView",
            "align_content": null,
            "align_items": null,
            "align_self": null,
            "border": null,
            "bottom": null,
            "display": null,
            "flex": null,
            "flex_flow": null,
            "grid_area": null,
            "grid_auto_columns": null,
            "grid_auto_flow": null,
            "grid_auto_rows": null,
            "grid_column": null,
            "grid_gap": null,
            "grid_row": null,
            "grid_template_areas": null,
            "grid_template_columns": null,
            "grid_template_rows": null,
            "height": null,
            "justify_content": null,
            "justify_items": null,
            "left": null,
            "margin": null,
            "max_height": null,
            "max_width": null,
            "min_height": null,
            "min_width": null,
            "object_fit": null,
            "object_position": null,
            "order": null,
            "overflow": null,
            "overflow_x": null,
            "overflow_y": null,
            "padding": null,
            "right": null,
            "top": null,
            "visibility": null,
            "width": null
          }
        },
        "060a8a363a2f4eefb096a0dd2aa2e531": {
          "model_module": "@jupyter-widgets/base",
          "model_name": "LayoutModel",
          "model_module_version": "1.2.0",
          "state": {
            "_model_module": "@jupyter-widgets/base",
            "_model_module_version": "1.2.0",
            "_model_name": "LayoutModel",
            "_view_count": null,
            "_view_module": "@jupyter-widgets/base",
            "_view_module_version": "1.2.0",
            "_view_name": "LayoutView",
            "align_content": null,
            "align_items": null,
            "align_self": null,
            "border": null,
            "bottom": null,
            "display": null,
            "flex": null,
            "flex_flow": null,
            "grid_area": null,
            "grid_auto_columns": null,
            "grid_auto_flow": null,
            "grid_auto_rows": null,
            "grid_column": null,
            "grid_gap": null,
            "grid_row": null,
            "grid_template_areas": null,
            "grid_template_columns": null,
            "grid_template_rows": null,
            "height": null,
            "justify_content": null,
            "justify_items": null,
            "left": null,
            "margin": null,
            "max_height": null,
            "max_width": null,
            "min_height": null,
            "min_width": null,
            "object_fit": null,
            "object_position": null,
            "order": null,
            "overflow": null,
            "overflow_x": null,
            "overflow_y": null,
            "padding": null,
            "right": null,
            "top": null,
            "visibility": null,
            "width": null
          }
        },
        "8c22c18cb7ae4e9392e0310031c1b857": {
          "model_module": "@jupyter-widgets/controls",
          "model_name": "DescriptionStyleModel",
          "model_module_version": "1.5.0",
          "state": {
            "_model_module": "@jupyter-widgets/controls",
            "_model_module_version": "1.5.0",
            "_model_name": "DescriptionStyleModel",
            "_view_count": null,
            "_view_module": "@jupyter-widgets/base",
            "_view_module_version": "1.2.0",
            "_view_name": "StyleView",
            "description_width": ""
          }
        },
        "4cb69d9306694c3ba69cf460b46856fa": {
          "model_module": "@jupyter-widgets/base",
          "model_name": "LayoutModel",
          "model_module_version": "1.2.0",
          "state": {
            "_model_module": "@jupyter-widgets/base",
            "_model_module_version": "1.2.0",
            "_model_name": "LayoutModel",
            "_view_count": null,
            "_view_module": "@jupyter-widgets/base",
            "_view_module_version": "1.2.0",
            "_view_name": "LayoutView",
            "align_content": null,
            "align_items": null,
            "align_self": null,
            "border": null,
            "bottom": null,
            "display": null,
            "flex": null,
            "flex_flow": null,
            "grid_area": null,
            "grid_auto_columns": null,
            "grid_auto_flow": null,
            "grid_auto_rows": null,
            "grid_column": null,
            "grid_gap": null,
            "grid_row": null,
            "grid_template_areas": null,
            "grid_template_columns": null,
            "grid_template_rows": null,
            "height": null,
            "justify_content": null,
            "justify_items": null,
            "left": null,
            "margin": null,
            "max_height": null,
            "max_width": null,
            "min_height": null,
            "min_width": null,
            "object_fit": null,
            "object_position": null,
            "order": null,
            "overflow": null,
            "overflow_x": null,
            "overflow_y": null,
            "padding": null,
            "right": null,
            "top": null,
            "visibility": null,
            "width": null
          }
        },
        "26c7e7959d8c4d7eb2aff42457517fab": {
          "model_module": "@jupyter-widgets/controls",
          "model_name": "ProgressStyleModel",
          "model_module_version": "1.5.0",
          "state": {
            "_model_module": "@jupyter-widgets/controls",
            "_model_module_version": "1.5.0",
            "_model_name": "ProgressStyleModel",
            "_view_count": null,
            "_view_module": "@jupyter-widgets/base",
            "_view_module_version": "1.2.0",
            "_view_name": "StyleView",
            "bar_color": null,
            "description_width": ""
          }
        },
        "261cef28cac0426d87c3c206152513aa": {
          "model_module": "@jupyter-widgets/base",
          "model_name": "LayoutModel",
          "model_module_version": "1.2.0",
          "state": {
            "_model_module": "@jupyter-widgets/base",
            "_model_module_version": "1.2.0",
            "_model_name": "LayoutModel",
            "_view_count": null,
            "_view_module": "@jupyter-widgets/base",
            "_view_module_version": "1.2.0",
            "_view_name": "LayoutView",
            "align_content": null,
            "align_items": null,
            "align_self": null,
            "border": null,
            "bottom": null,
            "display": null,
            "flex": null,
            "flex_flow": null,
            "grid_area": null,
            "grid_auto_columns": null,
            "grid_auto_flow": null,
            "grid_auto_rows": null,
            "grid_column": null,
            "grid_gap": null,
            "grid_row": null,
            "grid_template_areas": null,
            "grid_template_columns": null,
            "grid_template_rows": null,
            "height": null,
            "justify_content": null,
            "justify_items": null,
            "left": null,
            "margin": null,
            "max_height": null,
            "max_width": null,
            "min_height": null,
            "min_width": null,
            "object_fit": null,
            "object_position": null,
            "order": null,
            "overflow": null,
            "overflow_x": null,
            "overflow_y": null,
            "padding": null,
            "right": null,
            "top": null,
            "visibility": null,
            "width": null
          }
        },
        "21705070f8b3431ca1e242231d1dd5ad": {
          "model_module": "@jupyter-widgets/controls",
          "model_name": "DescriptionStyleModel",
          "model_module_version": "1.5.0",
          "state": {
            "_model_module": "@jupyter-widgets/controls",
            "_model_module_version": "1.5.0",
            "_model_name": "DescriptionStyleModel",
            "_view_count": null,
            "_view_module": "@jupyter-widgets/base",
            "_view_module_version": "1.2.0",
            "_view_name": "StyleView",
            "description_width": ""
          }
        },
        "92297f2bdbaa43308005525135b2e1cd": {
          "model_module": "@jupyter-widgets/controls",
          "model_name": "HBoxModel",
          "model_module_version": "1.5.0",
          "state": {
            "_dom_classes": [],
            "_model_module": "@jupyter-widgets/controls",
            "_model_module_version": "1.5.0",
            "_model_name": "HBoxModel",
            "_view_count": null,
            "_view_module": "@jupyter-widgets/controls",
            "_view_module_version": "1.5.0",
            "_view_name": "HBoxView",
            "box_style": "",
            "children": [
              "IPY_MODEL_af597c3e3c9843888ed44d974c104348",
              "IPY_MODEL_519a5e52c86d45af94eb3d86a0554bc0",
              "IPY_MODEL_8839245454c4484e95e2fb1a6436211b"
            ],
            "layout": "IPY_MODEL_b6f911043691428e97bae181dea4e84f"
          }
        },
        "af597c3e3c9843888ed44d974c104348": {
          "model_module": "@jupyter-widgets/controls",
          "model_name": "HTMLModel",
          "model_module_version": "1.5.0",
          "state": {
            "_dom_classes": [],
            "_model_module": "@jupyter-widgets/controls",
            "_model_module_version": "1.5.0",
            "_model_name": "HTMLModel",
            "_view_count": null,
            "_view_module": "@jupyter-widgets/controls",
            "_view_module_version": "1.5.0",
            "_view_name": "HTMLView",
            "description": "",
            "description_tooltip": null,
            "layout": "IPY_MODEL_30047977569a43e0937826099d5fdeac",
            "placeholder": "​",
            "style": "IPY_MODEL_ca49276a97a34806bf99a74d98b99603",
            "value": "model.safetensors: 100%"
          }
        },
        "519a5e52c86d45af94eb3d86a0554bc0": {
          "model_module": "@jupyter-widgets/controls",
          "model_name": "FloatProgressModel",
          "model_module_version": "1.5.0",
          "state": {
            "_dom_classes": [],
            "_model_module": "@jupyter-widgets/controls",
            "_model_module_version": "1.5.0",
            "_model_name": "FloatProgressModel",
            "_view_count": null,
            "_view_module": "@jupyter-widgets/controls",
            "_view_module_version": "1.5.0",
            "_view_name": "ProgressView",
            "bar_style": "success",
            "description": "",
            "description_tooltip": null,
            "layout": "IPY_MODEL_ac92ba36c6ae49f0b0486ad5da871928",
            "max": 2471645608,
            "min": 0,
            "orientation": "horizontal",
            "style": "IPY_MODEL_0fd2bf9c54514ce590016dc1bb3dad31",
            "value": 2471645608
          }
        },
        "8839245454c4484e95e2fb1a6436211b": {
          "model_module": "@jupyter-widgets/controls",
          "model_name": "HTMLModel",
          "model_module_version": "1.5.0",
          "state": {
            "_dom_classes": [],
            "_model_module": "@jupyter-widgets/controls",
            "_model_module_version": "1.5.0",
            "_model_name": "HTMLModel",
            "_view_count": null,
            "_view_module": "@jupyter-widgets/controls",
            "_view_module_version": "1.5.0",
            "_view_name": "HTMLView",
            "description": "",
            "description_tooltip": null,
            "layout": "IPY_MODEL_02f04d291dec4e24b4a762b91dd82f10",
            "placeholder": "​",
            "style": "IPY_MODEL_b331285a81b643c4af452695937063e9",
            "value": " 2.47G/2.47G [01:11&lt;00:00, 44.8MB/s]"
          }
        },
        "b6f911043691428e97bae181dea4e84f": {
          "model_module": "@jupyter-widgets/base",
          "model_name": "LayoutModel",
          "model_module_version": "1.2.0",
          "state": {
            "_model_module": "@jupyter-widgets/base",
            "_model_module_version": "1.2.0",
            "_model_name": "LayoutModel",
            "_view_count": null,
            "_view_module": "@jupyter-widgets/base",
            "_view_module_version": "1.2.0",
            "_view_name": "LayoutView",
            "align_content": null,
            "align_items": null,
            "align_self": null,
            "border": null,
            "bottom": null,
            "display": null,
            "flex": null,
            "flex_flow": null,
            "grid_area": null,
            "grid_auto_columns": null,
            "grid_auto_flow": null,
            "grid_auto_rows": null,
            "grid_column": null,
            "grid_gap": null,
            "grid_row": null,
            "grid_template_areas": null,
            "grid_template_columns": null,
            "grid_template_rows": null,
            "height": null,
            "justify_content": null,
            "justify_items": null,
            "left": null,
            "margin": null,
            "max_height": null,
            "max_width": null,
            "min_height": null,
            "min_width": null,
            "object_fit": null,
            "object_position": null,
            "order": null,
            "overflow": null,
            "overflow_x": null,
            "overflow_y": null,
            "padding": null,
            "right": null,
            "top": null,
            "visibility": null,
            "width": null
          }
        },
        "30047977569a43e0937826099d5fdeac": {
          "model_module": "@jupyter-widgets/base",
          "model_name": "LayoutModel",
          "model_module_version": "1.2.0",
          "state": {
            "_model_module": "@jupyter-widgets/base",
            "_model_module_version": "1.2.0",
            "_model_name": "LayoutModel",
            "_view_count": null,
            "_view_module": "@jupyter-widgets/base",
            "_view_module_version": "1.2.0",
            "_view_name": "LayoutView",
            "align_content": null,
            "align_items": null,
            "align_self": null,
            "border": null,
            "bottom": null,
            "display": null,
            "flex": null,
            "flex_flow": null,
            "grid_area": null,
            "grid_auto_columns": null,
            "grid_auto_flow": null,
            "grid_auto_rows": null,
            "grid_column": null,
            "grid_gap": null,
            "grid_row": null,
            "grid_template_areas": null,
            "grid_template_columns": null,
            "grid_template_rows": null,
            "height": null,
            "justify_content": null,
            "justify_items": null,
            "left": null,
            "margin": null,
            "max_height": null,
            "max_width": null,
            "min_height": null,
            "min_width": null,
            "object_fit": null,
            "object_position": null,
            "order": null,
            "overflow": null,
            "overflow_x": null,
            "overflow_y": null,
            "padding": null,
            "right": null,
            "top": null,
            "visibility": null,
            "width": null
          }
        },
        "ca49276a97a34806bf99a74d98b99603": {
          "model_module": "@jupyter-widgets/controls",
          "model_name": "DescriptionStyleModel",
          "model_module_version": "1.5.0",
          "state": {
            "_model_module": "@jupyter-widgets/controls",
            "_model_module_version": "1.5.0",
            "_model_name": "DescriptionStyleModel",
            "_view_count": null,
            "_view_module": "@jupyter-widgets/base",
            "_view_module_version": "1.2.0",
            "_view_name": "StyleView",
            "description_width": ""
          }
        },
        "ac92ba36c6ae49f0b0486ad5da871928": {
          "model_module": "@jupyter-widgets/base",
          "model_name": "LayoutModel",
          "model_module_version": "1.2.0",
          "state": {
            "_model_module": "@jupyter-widgets/base",
            "_model_module_version": "1.2.0",
            "_model_name": "LayoutModel",
            "_view_count": null,
            "_view_module": "@jupyter-widgets/base",
            "_view_module_version": "1.2.0",
            "_view_name": "LayoutView",
            "align_content": null,
            "align_items": null,
            "align_self": null,
            "border": null,
            "bottom": null,
            "display": null,
            "flex": null,
            "flex_flow": null,
            "grid_area": null,
            "grid_auto_columns": null,
            "grid_auto_flow": null,
            "grid_auto_rows": null,
            "grid_column": null,
            "grid_gap": null,
            "grid_row": null,
            "grid_template_areas": null,
            "grid_template_columns": null,
            "grid_template_rows": null,
            "height": null,
            "justify_content": null,
            "justify_items": null,
            "left": null,
            "margin": null,
            "max_height": null,
            "max_width": null,
            "min_height": null,
            "min_width": null,
            "object_fit": null,
            "object_position": null,
            "order": null,
            "overflow": null,
            "overflow_x": null,
            "overflow_y": null,
            "padding": null,
            "right": null,
            "top": null,
            "visibility": null,
            "width": null
          }
        },
        "0fd2bf9c54514ce590016dc1bb3dad31": {
          "model_module": "@jupyter-widgets/controls",
          "model_name": "ProgressStyleModel",
          "model_module_version": "1.5.0",
          "state": {
            "_model_module": "@jupyter-widgets/controls",
            "_model_module_version": "1.5.0",
            "_model_name": "ProgressStyleModel",
            "_view_count": null,
            "_view_module": "@jupyter-widgets/base",
            "_view_module_version": "1.2.0",
            "_view_name": "StyleView",
            "bar_color": null,
            "description_width": ""
          }
        },
        "02f04d291dec4e24b4a762b91dd82f10": {
          "model_module": "@jupyter-widgets/base",
          "model_name": "LayoutModel",
          "model_module_version": "1.2.0",
          "state": {
            "_model_module": "@jupyter-widgets/base",
            "_model_module_version": "1.2.0",
            "_model_name": "LayoutModel",
            "_view_count": null,
            "_view_module": "@jupyter-widgets/base",
            "_view_module_version": "1.2.0",
            "_view_name": "LayoutView",
            "align_content": null,
            "align_items": null,
            "align_self": null,
            "border": null,
            "bottom": null,
            "display": null,
            "flex": null,
            "flex_flow": null,
            "grid_area": null,
            "grid_auto_columns": null,
            "grid_auto_flow": null,
            "grid_auto_rows": null,
            "grid_column": null,
            "grid_gap": null,
            "grid_row": null,
            "grid_template_areas": null,
            "grid_template_columns": null,
            "grid_template_rows": null,
            "height": null,
            "justify_content": null,
            "justify_items": null,
            "left": null,
            "margin": null,
            "max_height": null,
            "max_width": null,
            "min_height": null,
            "min_width": null,
            "object_fit": null,
            "object_position": null,
            "order": null,
            "overflow": null,
            "overflow_x": null,
            "overflow_y": null,
            "padding": null,
            "right": null,
            "top": null,
            "visibility": null,
            "width": null
          }
        },
        "b331285a81b643c4af452695937063e9": {
          "model_module": "@jupyter-widgets/controls",
          "model_name": "DescriptionStyleModel",
          "model_module_version": "1.5.0",
          "state": {
            "_model_module": "@jupyter-widgets/controls",
            "_model_module_version": "1.5.0",
            "_model_name": "DescriptionStyleModel",
            "_view_count": null,
            "_view_module": "@jupyter-widgets/base",
            "_view_module_version": "1.2.0",
            "_view_name": "StyleView",
            "description_width": ""
          }
        },
        "da139422d4634736b529556f4eb52535": {
          "model_module": "@jupyter-widgets/controls",
          "model_name": "HBoxModel",
          "model_module_version": "1.5.0",
          "state": {
            "_dom_classes": [],
            "_model_module": "@jupyter-widgets/controls",
            "_model_module_version": "1.5.0",
            "_model_name": "HBoxModel",
            "_view_count": null,
            "_view_module": "@jupyter-widgets/controls",
            "_view_module_version": "1.5.0",
            "_view_name": "HBoxView",
            "box_style": "",
            "children": [
              "IPY_MODEL_6eda63c7b658487c8288c350e2c4ecb5",
              "IPY_MODEL_a2fb89acf3644655ad559b40a86fd6ec",
              "IPY_MODEL_2c1ebb4a6fea43f98140831f5cd5f38e"
            ],
            "layout": "IPY_MODEL_3bcb9a5a4e054b5c9f960222446681b9"
          }
        },
        "6eda63c7b658487c8288c350e2c4ecb5": {
          "model_module": "@jupyter-widgets/controls",
          "model_name": "HTMLModel",
          "model_module_version": "1.5.0",
          "state": {
            "_dom_classes": [],
            "_model_module": "@jupyter-widgets/controls",
            "_model_module_version": "1.5.0",
            "_model_name": "HTMLModel",
            "_view_count": null,
            "_view_module": "@jupyter-widgets/controls",
            "_view_module_version": "1.5.0",
            "_view_name": "HTMLView",
            "description": "",
            "description_tooltip": null,
            "layout": "IPY_MODEL_2ebfdb8286c144cdb127ce13f3dde82f",
            "placeholder": "​",
            "style": "IPY_MODEL_caf160038ebe47a7813dd469cea98a8e",
            "value": "Upload 2 LFS files: 100%"
          }
        },
        "a2fb89acf3644655ad559b40a86fd6ec": {
          "model_module": "@jupyter-widgets/controls",
          "model_name": "FloatProgressModel",
          "model_module_version": "1.5.0",
          "state": {
            "_dom_classes": [],
            "_model_module": "@jupyter-widgets/controls",
            "_model_module_version": "1.5.0",
            "_model_name": "FloatProgressModel",
            "_view_count": null,
            "_view_module": "@jupyter-widgets/controls",
            "_view_module_version": "1.5.0",
            "_view_name": "ProgressView",
            "bar_style": "success",
            "description": "",
            "description_tooltip": null,
            "layout": "IPY_MODEL_5f3a8151490a438ca3c722431f22033b",
            "max": 2,
            "min": 0,
            "orientation": "horizontal",
            "style": "IPY_MODEL_2a1a1452a3d24df5b457c68158f7b855",
            "value": 2
          }
        },
        "2c1ebb4a6fea43f98140831f5cd5f38e": {
          "model_module": "@jupyter-widgets/controls",
          "model_name": "HTMLModel",
          "model_module_version": "1.5.0",
          "state": {
            "_dom_classes": [],
            "_model_module": "@jupyter-widgets/controls",
            "_model_module_version": "1.5.0",
            "_model_name": "HTMLModel",
            "_view_count": null,
            "_view_module": "@jupyter-widgets/controls",
            "_view_module_version": "1.5.0",
            "_view_name": "HTMLView",
            "description": "",
            "description_tooltip": null,
            "layout": "IPY_MODEL_06e4902b55cd4894aef80f307f88292e",
            "placeholder": "​",
            "style": "IPY_MODEL_60dc6a7d2b7240bcb6da4ddc39c1b374",
            "value": " 2/2 [01:11&lt;00:00, 71.99s/it]"
          }
        },
        "3bcb9a5a4e054b5c9f960222446681b9": {
          "model_module": "@jupyter-widgets/base",
          "model_name": "LayoutModel",
          "model_module_version": "1.2.0",
          "state": {
            "_model_module": "@jupyter-widgets/base",
            "_model_module_version": "1.2.0",
            "_model_name": "LayoutModel",
            "_view_count": null,
            "_view_module": "@jupyter-widgets/base",
            "_view_module_version": "1.2.0",
            "_view_name": "LayoutView",
            "align_content": null,
            "align_items": null,
            "align_self": null,
            "border": null,
            "bottom": null,
            "display": null,
            "flex": null,
            "flex_flow": null,
            "grid_area": null,
            "grid_auto_columns": null,
            "grid_auto_flow": null,
            "grid_auto_rows": null,
            "grid_column": null,
            "grid_gap": null,
            "grid_row": null,
            "grid_template_areas": null,
            "grid_template_columns": null,
            "grid_template_rows": null,
            "height": null,
            "justify_content": null,
            "justify_items": null,
            "left": null,
            "margin": null,
            "max_height": null,
            "max_width": null,
            "min_height": null,
            "min_width": null,
            "object_fit": null,
            "object_position": null,
            "order": null,
            "overflow": null,
            "overflow_x": null,
            "overflow_y": null,
            "padding": null,
            "right": null,
            "top": null,
            "visibility": null,
            "width": null
          }
        },
        "2ebfdb8286c144cdb127ce13f3dde82f": {
          "model_module": "@jupyter-widgets/base",
          "model_name": "LayoutModel",
          "model_module_version": "1.2.0",
          "state": {
            "_model_module": "@jupyter-widgets/base",
            "_model_module_version": "1.2.0",
            "_model_name": "LayoutModel",
            "_view_count": null,
            "_view_module": "@jupyter-widgets/base",
            "_view_module_version": "1.2.0",
            "_view_name": "LayoutView",
            "align_content": null,
            "align_items": null,
            "align_self": null,
            "border": null,
            "bottom": null,
            "display": null,
            "flex": null,
            "flex_flow": null,
            "grid_area": null,
            "grid_auto_columns": null,
            "grid_auto_flow": null,
            "grid_auto_rows": null,
            "grid_column": null,
            "grid_gap": null,
            "grid_row": null,
            "grid_template_areas": null,
            "grid_template_columns": null,
            "grid_template_rows": null,
            "height": null,
            "justify_content": null,
            "justify_items": null,
            "left": null,
            "margin": null,
            "max_height": null,
            "max_width": null,
            "min_height": null,
            "min_width": null,
            "object_fit": null,
            "object_position": null,
            "order": null,
            "overflow": null,
            "overflow_x": null,
            "overflow_y": null,
            "padding": null,
            "right": null,
            "top": null,
            "visibility": null,
            "width": null
          }
        },
        "caf160038ebe47a7813dd469cea98a8e": {
          "model_module": "@jupyter-widgets/controls",
          "model_name": "DescriptionStyleModel",
          "model_module_version": "1.5.0",
          "state": {
            "_model_module": "@jupyter-widgets/controls",
            "_model_module_version": "1.5.0",
            "_model_name": "DescriptionStyleModel",
            "_view_count": null,
            "_view_module": "@jupyter-widgets/base",
            "_view_module_version": "1.2.0",
            "_view_name": "StyleView",
            "description_width": ""
          }
        },
        "5f3a8151490a438ca3c722431f22033b": {
          "model_module": "@jupyter-widgets/base",
          "model_name": "LayoutModel",
          "model_module_version": "1.2.0",
          "state": {
            "_model_module": "@jupyter-widgets/base",
            "_model_module_version": "1.2.0",
            "_model_name": "LayoutModel",
            "_view_count": null,
            "_view_module": "@jupyter-widgets/base",
            "_view_module_version": "1.2.0",
            "_view_name": "LayoutView",
            "align_content": null,
            "align_items": null,
            "align_self": null,
            "border": null,
            "bottom": null,
            "display": null,
            "flex": null,
            "flex_flow": null,
            "grid_area": null,
            "grid_auto_columns": null,
            "grid_auto_flow": null,
            "grid_auto_rows": null,
            "grid_column": null,
            "grid_gap": null,
            "grid_row": null,
            "grid_template_areas": null,
            "grid_template_columns": null,
            "grid_template_rows": null,
            "height": null,
            "justify_content": null,
            "justify_items": null,
            "left": null,
            "margin": null,
            "max_height": null,
            "max_width": null,
            "min_height": null,
            "min_width": null,
            "object_fit": null,
            "object_position": null,
            "order": null,
            "overflow": null,
            "overflow_x": null,
            "overflow_y": null,
            "padding": null,
            "right": null,
            "top": null,
            "visibility": null,
            "width": null
          }
        },
        "2a1a1452a3d24df5b457c68158f7b855": {
          "model_module": "@jupyter-widgets/controls",
          "model_name": "ProgressStyleModel",
          "model_module_version": "1.5.0",
          "state": {
            "_model_module": "@jupyter-widgets/controls",
            "_model_module_version": "1.5.0",
            "_model_name": "ProgressStyleModel",
            "_view_count": null,
            "_view_module": "@jupyter-widgets/base",
            "_view_module_version": "1.2.0",
            "_view_name": "StyleView",
            "bar_color": null,
            "description_width": ""
          }
        },
        "06e4902b55cd4894aef80f307f88292e": {
          "model_module": "@jupyter-widgets/base",
          "model_name": "LayoutModel",
          "model_module_version": "1.2.0",
          "state": {
            "_model_module": "@jupyter-widgets/base",
            "_model_module_version": "1.2.0",
            "_model_name": "LayoutModel",
            "_view_count": null,
            "_view_module": "@jupyter-widgets/base",
            "_view_module_version": "1.2.0",
            "_view_name": "LayoutView",
            "align_content": null,
            "align_items": null,
            "align_self": null,
            "border": null,
            "bottom": null,
            "display": null,
            "flex": null,
            "flex_flow": null,
            "grid_area": null,
            "grid_auto_columns": null,
            "grid_auto_flow": null,
            "grid_auto_rows": null,
            "grid_column": null,
            "grid_gap": null,
            "grid_row": null,
            "grid_template_areas": null,
            "grid_template_columns": null,
            "grid_template_rows": null,
            "height": null,
            "justify_content": null,
            "justify_items": null,
            "left": null,
            "margin": null,
            "max_height": null,
            "max_width": null,
            "min_height": null,
            "min_width": null,
            "object_fit": null,
            "object_position": null,
            "order": null,
            "overflow": null,
            "overflow_x": null,
            "overflow_y": null,
            "padding": null,
            "right": null,
            "top": null,
            "visibility": null,
            "width": null
          }
        },
        "60dc6a7d2b7240bcb6da4ddc39c1b374": {
          "model_module": "@jupyter-widgets/controls",
          "model_name": "DescriptionStyleModel",
          "model_module_version": "1.5.0",
          "state": {
            "_model_module": "@jupyter-widgets/controls",
            "_model_module_version": "1.5.0",
            "_model_name": "DescriptionStyleModel",
            "_view_count": null,
            "_view_module": "@jupyter-widgets/base",
            "_view_module_version": "1.2.0",
            "_view_name": "StyleView",
            "description_width": ""
          }
        },
        "478c16429e224f899e000b6d9bdb3b56": {
          "model_module": "@jupyter-widgets/controls",
          "model_name": "HBoxModel",
          "model_module_version": "1.5.0",
          "state": {
            "_dom_classes": [],
            "_model_module": "@jupyter-widgets/controls",
            "_model_module_version": "1.5.0",
            "_model_name": "HBoxModel",
            "_view_count": null,
            "_view_module": "@jupyter-widgets/controls",
            "_view_module_version": "1.5.0",
            "_view_name": "HBoxView",
            "box_style": "",
            "children": [
              "IPY_MODEL_6f7bb4b29d5d4e76b1445347f787dcc8",
              "IPY_MODEL_16c32704ae674f8d92868bc98a37d088",
              "IPY_MODEL_51c719d6a8734655b213f86e83e470ac"
            ],
            "layout": "IPY_MODEL_0aac2a1228144f5d997e751503df2d00"
          }
        },
        "6f7bb4b29d5d4e76b1445347f787dcc8": {
          "model_module": "@jupyter-widgets/controls",
          "model_name": "HTMLModel",
          "model_module_version": "1.5.0",
          "state": {
            "_dom_classes": [],
            "_model_module": "@jupyter-widgets/controls",
            "_model_module_version": "1.5.0",
            "_model_name": "HTMLModel",
            "_view_count": null,
            "_view_module": "@jupyter-widgets/controls",
            "_view_module_version": "1.5.0",
            "_view_name": "HTMLView",
            "description": "",
            "description_tooltip": null,
            "layout": "IPY_MODEL_f0350f4bc9f146a99d8fa673f0ac6425",
            "placeholder": "​",
            "style": "IPY_MODEL_f0db6e7ea8a041be97efa8a766e305fc",
            "value": "config.json: 100%"
          }
        },
        "16c32704ae674f8d92868bc98a37d088": {
          "model_module": "@jupyter-widgets/controls",
          "model_name": "FloatProgressModel",
          "model_module_version": "1.5.0",
          "state": {
            "_dom_classes": [],
            "_model_module": "@jupyter-widgets/controls",
            "_model_module_version": "1.5.0",
            "_model_name": "FloatProgressModel",
            "_view_count": null,
            "_view_module": "@jupyter-widgets/controls",
            "_view_module_version": "1.5.0",
            "_view_name": "ProgressView",
            "bar_style": "success",
            "description": "",
            "description_tooltip": null,
            "layout": "IPY_MODEL_6d3e68035eea401f9190843eee83608e",
            "max": 884,
            "min": 0,
            "orientation": "horizontal",
            "style": "IPY_MODEL_36ddb022f2b7444b9280fac6c653b960",
            "value": 884
          }
        },
        "51c719d6a8734655b213f86e83e470ac": {
          "model_module": "@jupyter-widgets/controls",
          "model_name": "HTMLModel",
          "model_module_version": "1.5.0",
          "state": {
            "_dom_classes": [],
            "_model_module": "@jupyter-widgets/controls",
            "_model_module_version": "1.5.0",
            "_model_name": "HTMLModel",
            "_view_count": null,
            "_view_module": "@jupyter-widgets/controls",
            "_view_module_version": "1.5.0",
            "_view_name": "HTMLView",
            "description": "",
            "description_tooltip": null,
            "layout": "IPY_MODEL_d8ce920e19e9490987835fe65b3e90b7",
            "placeholder": "​",
            "style": "IPY_MODEL_18712da3a3d6418ebd12f9aba0343a67",
            "value": " 884/884 [00:00&lt;00:00, 79.9kB/s]"
          }
        },
        "0aac2a1228144f5d997e751503df2d00": {
          "model_module": "@jupyter-widgets/base",
          "model_name": "LayoutModel",
          "model_module_version": "1.2.0",
          "state": {
            "_model_module": "@jupyter-widgets/base",
            "_model_module_version": "1.2.0",
            "_model_name": "LayoutModel",
            "_view_count": null,
            "_view_module": "@jupyter-widgets/base",
            "_view_module_version": "1.2.0",
            "_view_name": "LayoutView",
            "align_content": null,
            "align_items": null,
            "align_self": null,
            "border": null,
            "bottom": null,
            "display": null,
            "flex": null,
            "flex_flow": null,
            "grid_area": null,
            "grid_auto_columns": null,
            "grid_auto_flow": null,
            "grid_auto_rows": null,
            "grid_column": null,
            "grid_gap": null,
            "grid_row": null,
            "grid_template_areas": null,
            "grid_template_columns": null,
            "grid_template_rows": null,
            "height": null,
            "justify_content": null,
            "justify_items": null,
            "left": null,
            "margin": null,
            "max_height": null,
            "max_width": null,
            "min_height": null,
            "min_width": null,
            "object_fit": null,
            "object_position": null,
            "order": null,
            "overflow": null,
            "overflow_x": null,
            "overflow_y": null,
            "padding": null,
            "right": null,
            "top": null,
            "visibility": null,
            "width": null
          }
        },
        "f0350f4bc9f146a99d8fa673f0ac6425": {
          "model_module": "@jupyter-widgets/base",
          "model_name": "LayoutModel",
          "model_module_version": "1.2.0",
          "state": {
            "_model_module": "@jupyter-widgets/base",
            "_model_module_version": "1.2.0",
            "_model_name": "LayoutModel",
            "_view_count": null,
            "_view_module": "@jupyter-widgets/base",
            "_view_module_version": "1.2.0",
            "_view_name": "LayoutView",
            "align_content": null,
            "align_items": null,
            "align_self": null,
            "border": null,
            "bottom": null,
            "display": null,
            "flex": null,
            "flex_flow": null,
            "grid_area": null,
            "grid_auto_columns": null,
            "grid_auto_flow": null,
            "grid_auto_rows": null,
            "grid_column": null,
            "grid_gap": null,
            "grid_row": null,
            "grid_template_areas": null,
            "grid_template_columns": null,
            "grid_template_rows": null,
            "height": null,
            "justify_content": null,
            "justify_items": null,
            "left": null,
            "margin": null,
            "max_height": null,
            "max_width": null,
            "min_height": null,
            "min_width": null,
            "object_fit": null,
            "object_position": null,
            "order": null,
            "overflow": null,
            "overflow_x": null,
            "overflow_y": null,
            "padding": null,
            "right": null,
            "top": null,
            "visibility": null,
            "width": null
          }
        },
        "f0db6e7ea8a041be97efa8a766e305fc": {
          "model_module": "@jupyter-widgets/controls",
          "model_name": "DescriptionStyleModel",
          "model_module_version": "1.5.0",
          "state": {
            "_model_module": "@jupyter-widgets/controls",
            "_model_module_version": "1.5.0",
            "_model_name": "DescriptionStyleModel",
            "_view_count": null,
            "_view_module": "@jupyter-widgets/base",
            "_view_module_version": "1.2.0",
            "_view_name": "StyleView",
            "description_width": ""
          }
        },
        "6d3e68035eea401f9190843eee83608e": {
          "model_module": "@jupyter-widgets/base",
          "model_name": "LayoutModel",
          "model_module_version": "1.2.0",
          "state": {
            "_model_module": "@jupyter-widgets/base",
            "_model_module_version": "1.2.0",
            "_model_name": "LayoutModel",
            "_view_count": null,
            "_view_module": "@jupyter-widgets/base",
            "_view_module_version": "1.2.0",
            "_view_name": "LayoutView",
            "align_content": null,
            "align_items": null,
            "align_self": null,
            "border": null,
            "bottom": null,
            "display": null,
            "flex": null,
            "flex_flow": null,
            "grid_area": null,
            "grid_auto_columns": null,
            "grid_auto_flow": null,
            "grid_auto_rows": null,
            "grid_column": null,
            "grid_gap": null,
            "grid_row": null,
            "grid_template_areas": null,
            "grid_template_columns": null,
            "grid_template_rows": null,
            "height": null,
            "justify_content": null,
            "justify_items": null,
            "left": null,
            "margin": null,
            "max_height": null,
            "max_width": null,
            "min_height": null,
            "min_width": null,
            "object_fit": null,
            "object_position": null,
            "order": null,
            "overflow": null,
            "overflow_x": null,
            "overflow_y": null,
            "padding": null,
            "right": null,
            "top": null,
            "visibility": null,
            "width": null
          }
        },
        "36ddb022f2b7444b9280fac6c653b960": {
          "model_module": "@jupyter-widgets/controls",
          "model_name": "ProgressStyleModel",
          "model_module_version": "1.5.0",
          "state": {
            "_model_module": "@jupyter-widgets/controls",
            "_model_module_version": "1.5.0",
            "_model_name": "ProgressStyleModel",
            "_view_count": null,
            "_view_module": "@jupyter-widgets/base",
            "_view_module_version": "1.2.0",
            "_view_name": "StyleView",
            "bar_color": null,
            "description_width": ""
          }
        },
        "d8ce920e19e9490987835fe65b3e90b7": {
          "model_module": "@jupyter-widgets/base",
          "model_name": "LayoutModel",
          "model_module_version": "1.2.0",
          "state": {
            "_model_module": "@jupyter-widgets/base",
            "_model_module_version": "1.2.0",
            "_model_name": "LayoutModel",
            "_view_count": null,
            "_view_module": "@jupyter-widgets/base",
            "_view_module_version": "1.2.0",
            "_view_name": "LayoutView",
            "align_content": null,
            "align_items": null,
            "align_self": null,
            "border": null,
            "bottom": null,
            "display": null,
            "flex": null,
            "flex_flow": null,
            "grid_area": null,
            "grid_auto_columns": null,
            "grid_auto_flow": null,
            "grid_auto_rows": null,
            "grid_column": null,
            "grid_gap": null,
            "grid_row": null,
            "grid_template_areas": null,
            "grid_template_columns": null,
            "grid_template_rows": null,
            "height": null,
            "justify_content": null,
            "justify_items": null,
            "left": null,
            "margin": null,
            "max_height": null,
            "max_width": null,
            "min_height": null,
            "min_width": null,
            "object_fit": null,
            "object_position": null,
            "order": null,
            "overflow": null,
            "overflow_x": null,
            "overflow_y": null,
            "padding": null,
            "right": null,
            "top": null,
            "visibility": null,
            "width": null
          }
        },
        "18712da3a3d6418ebd12f9aba0343a67": {
          "model_module": "@jupyter-widgets/controls",
          "model_name": "DescriptionStyleModel",
          "model_module_version": "1.5.0",
          "state": {
            "_model_module": "@jupyter-widgets/controls",
            "_model_module_version": "1.5.0",
            "_model_name": "DescriptionStyleModel",
            "_view_count": null,
            "_view_module": "@jupyter-widgets/base",
            "_view_module_version": "1.2.0",
            "_view_name": "StyleView",
            "description_width": ""
          }
        },
        "b99e510286354d3aa4186ceff928938c": {
          "model_module": "@jupyter-widgets/controls",
          "model_name": "HBoxModel",
          "model_module_version": "1.5.0",
          "state": {
            "_dom_classes": [],
            "_model_module": "@jupyter-widgets/controls",
            "_model_module_version": "1.5.0",
            "_model_name": "HBoxModel",
            "_view_count": null,
            "_view_module": "@jupyter-widgets/controls",
            "_view_module_version": "1.5.0",
            "_view_name": "HBoxView",
            "box_style": "",
            "children": [
              "IPY_MODEL_4757c9c339fa48b298fab8d5e2797184",
              "IPY_MODEL_7aa65c011a2641018fe0a42d0063e6b9",
              "IPY_MODEL_56530ea3ee9c4a9b9582c2f0dbdac3ff"
            ],
            "layout": "IPY_MODEL_ab24bdd91dac44a4ae2dec77365f3b70"
          }
        },
        "4757c9c339fa48b298fab8d5e2797184": {
          "model_module": "@jupyter-widgets/controls",
          "model_name": "HTMLModel",
          "model_module_version": "1.5.0",
          "state": {
            "_dom_classes": [],
            "_model_module": "@jupyter-widgets/controls",
            "_model_module_version": "1.5.0",
            "_model_name": "HTMLModel",
            "_view_count": null,
            "_view_module": "@jupyter-widgets/controls",
            "_view_module_version": "1.5.0",
            "_view_name": "HTMLView",
            "description": "",
            "description_tooltip": null,
            "layout": "IPY_MODEL_529eaf0d6c4848f38bf1827da198d286",
            "placeholder": "​",
            "style": "IPY_MODEL_b1d41a8fc009463d8e12a96dd9bcd29d",
            "value": "model.safetensors: 100%"
          }
        },
        "7aa65c011a2641018fe0a42d0063e6b9": {
          "model_module": "@jupyter-widgets/controls",
          "model_name": "FloatProgressModel",
          "model_module_version": "1.5.0",
          "state": {
            "_dom_classes": [],
            "_model_module": "@jupyter-widgets/controls",
            "_model_module_version": "1.5.0",
            "_model_name": "FloatProgressModel",
            "_view_count": null,
            "_view_module": "@jupyter-widgets/controls",
            "_view_module_version": "1.5.0",
            "_view_name": "ProgressView",
            "bar_style": "success",
            "description": "",
            "description_tooltip": null,
            "layout": "IPY_MODEL_b270ccdcc83641f8b9442a79ec3497b7",
            "max": 2471645608,
            "min": 0,
            "orientation": "horizontal",
            "style": "IPY_MODEL_90bd9cf74fc84f2f8a6bf9c6ad8eab1c",
            "value": 2471645608
          }
        },
        "56530ea3ee9c4a9b9582c2f0dbdac3ff": {
          "model_module": "@jupyter-widgets/controls",
          "model_name": "HTMLModel",
          "model_module_version": "1.5.0",
          "state": {
            "_dom_classes": [],
            "_model_module": "@jupyter-widgets/controls",
            "_model_module_version": "1.5.0",
            "_model_name": "HTMLModel",
            "_view_count": null,
            "_view_module": "@jupyter-widgets/controls",
            "_view_module_version": "1.5.0",
            "_view_name": "HTMLView",
            "description": "",
            "description_tooltip": null,
            "layout": "IPY_MODEL_eac1b1929ffc4fb0924819ba39403ea6",
            "placeholder": "​",
            "style": "IPY_MODEL_eb00f0e9d03346bb905846d1c02fc3d8",
            "value": " 2.47G/2.47G [00:23&lt;00:00, 73.2MB/s]"
          }
        },
        "ab24bdd91dac44a4ae2dec77365f3b70": {
          "model_module": "@jupyter-widgets/base",
          "model_name": "LayoutModel",
          "model_module_version": "1.2.0",
          "state": {
            "_model_module": "@jupyter-widgets/base",
            "_model_module_version": "1.2.0",
            "_model_name": "LayoutModel",
            "_view_count": null,
            "_view_module": "@jupyter-widgets/base",
            "_view_module_version": "1.2.0",
            "_view_name": "LayoutView",
            "align_content": null,
            "align_items": null,
            "align_self": null,
            "border": null,
            "bottom": null,
            "display": null,
            "flex": null,
            "flex_flow": null,
            "grid_area": null,
            "grid_auto_columns": null,
            "grid_auto_flow": null,
            "grid_auto_rows": null,
            "grid_column": null,
            "grid_gap": null,
            "grid_row": null,
            "grid_template_areas": null,
            "grid_template_columns": null,
            "grid_template_rows": null,
            "height": null,
            "justify_content": null,
            "justify_items": null,
            "left": null,
            "margin": null,
            "max_height": null,
            "max_width": null,
            "min_height": null,
            "min_width": null,
            "object_fit": null,
            "object_position": null,
            "order": null,
            "overflow": null,
            "overflow_x": null,
            "overflow_y": null,
            "padding": null,
            "right": null,
            "top": null,
            "visibility": null,
            "width": null
          }
        },
        "529eaf0d6c4848f38bf1827da198d286": {
          "model_module": "@jupyter-widgets/base",
          "model_name": "LayoutModel",
          "model_module_version": "1.2.0",
          "state": {
            "_model_module": "@jupyter-widgets/base",
            "_model_module_version": "1.2.0",
            "_model_name": "LayoutModel",
            "_view_count": null,
            "_view_module": "@jupyter-widgets/base",
            "_view_module_version": "1.2.0",
            "_view_name": "LayoutView",
            "align_content": null,
            "align_items": null,
            "align_self": null,
            "border": null,
            "bottom": null,
            "display": null,
            "flex": null,
            "flex_flow": null,
            "grid_area": null,
            "grid_auto_columns": null,
            "grid_auto_flow": null,
            "grid_auto_rows": null,
            "grid_column": null,
            "grid_gap": null,
            "grid_row": null,
            "grid_template_areas": null,
            "grid_template_columns": null,
            "grid_template_rows": null,
            "height": null,
            "justify_content": null,
            "justify_items": null,
            "left": null,
            "margin": null,
            "max_height": null,
            "max_width": null,
            "min_height": null,
            "min_width": null,
            "object_fit": null,
            "object_position": null,
            "order": null,
            "overflow": null,
            "overflow_x": null,
            "overflow_y": null,
            "padding": null,
            "right": null,
            "top": null,
            "visibility": null,
            "width": null
          }
        },
        "b1d41a8fc009463d8e12a96dd9bcd29d": {
          "model_module": "@jupyter-widgets/controls",
          "model_name": "DescriptionStyleModel",
          "model_module_version": "1.5.0",
          "state": {
            "_model_module": "@jupyter-widgets/controls",
            "_model_module_version": "1.5.0",
            "_model_name": "DescriptionStyleModel",
            "_view_count": null,
            "_view_module": "@jupyter-widgets/base",
            "_view_module_version": "1.2.0",
            "_view_name": "StyleView",
            "description_width": ""
          }
        },
        "b270ccdcc83641f8b9442a79ec3497b7": {
          "model_module": "@jupyter-widgets/base",
          "model_name": "LayoutModel",
          "model_module_version": "1.2.0",
          "state": {
            "_model_module": "@jupyter-widgets/base",
            "_model_module_version": "1.2.0",
            "_model_name": "LayoutModel",
            "_view_count": null,
            "_view_module": "@jupyter-widgets/base",
            "_view_module_version": "1.2.0",
            "_view_name": "LayoutView",
            "align_content": null,
            "align_items": null,
            "align_self": null,
            "border": null,
            "bottom": null,
            "display": null,
            "flex": null,
            "flex_flow": null,
            "grid_area": null,
            "grid_auto_columns": null,
            "grid_auto_flow": null,
            "grid_auto_rows": null,
            "grid_column": null,
            "grid_gap": null,
            "grid_row": null,
            "grid_template_areas": null,
            "grid_template_columns": null,
            "grid_template_rows": null,
            "height": null,
            "justify_content": null,
            "justify_items": null,
            "left": null,
            "margin": null,
            "max_height": null,
            "max_width": null,
            "min_height": null,
            "min_width": null,
            "object_fit": null,
            "object_position": null,
            "order": null,
            "overflow": null,
            "overflow_x": null,
            "overflow_y": null,
            "padding": null,
            "right": null,
            "top": null,
            "visibility": null,
            "width": null
          }
        },
        "90bd9cf74fc84f2f8a6bf9c6ad8eab1c": {
          "model_module": "@jupyter-widgets/controls",
          "model_name": "ProgressStyleModel",
          "model_module_version": "1.5.0",
          "state": {
            "_model_module": "@jupyter-widgets/controls",
            "_model_module_version": "1.5.0",
            "_model_name": "ProgressStyleModel",
            "_view_count": null,
            "_view_module": "@jupyter-widgets/base",
            "_view_module_version": "1.2.0",
            "_view_name": "StyleView",
            "bar_color": null,
            "description_width": ""
          }
        },
        "eac1b1929ffc4fb0924819ba39403ea6": {
          "model_module": "@jupyter-widgets/base",
          "model_name": "LayoutModel",
          "model_module_version": "1.2.0",
          "state": {
            "_model_module": "@jupyter-widgets/base",
            "_model_module_version": "1.2.0",
            "_model_name": "LayoutModel",
            "_view_count": null,
            "_view_module": "@jupyter-widgets/base",
            "_view_module_version": "1.2.0",
            "_view_name": "LayoutView",
            "align_content": null,
            "align_items": null,
            "align_self": null,
            "border": null,
            "bottom": null,
            "display": null,
            "flex": null,
            "flex_flow": null,
            "grid_area": null,
            "grid_auto_columns": null,
            "grid_auto_flow": null,
            "grid_auto_rows": null,
            "grid_column": null,
            "grid_gap": null,
            "grid_row": null,
            "grid_template_areas": null,
            "grid_template_columns": null,
            "grid_template_rows": null,
            "height": null,
            "justify_content": null,
            "justify_items": null,
            "left": null,
            "margin": null,
            "max_height": null,
            "max_width": null,
            "min_height": null,
            "min_width": null,
            "object_fit": null,
            "object_position": null,
            "order": null,
            "overflow": null,
            "overflow_x": null,
            "overflow_y": null,
            "padding": null,
            "right": null,
            "top": null,
            "visibility": null,
            "width": null
          }
        },
        "eb00f0e9d03346bb905846d1c02fc3d8": {
          "model_module": "@jupyter-widgets/controls",
          "model_name": "DescriptionStyleModel",
          "model_module_version": "1.5.0",
          "state": {
            "_model_module": "@jupyter-widgets/controls",
            "_model_module_version": "1.5.0",
            "_model_name": "DescriptionStyleModel",
            "_view_count": null,
            "_view_module": "@jupyter-widgets/base",
            "_view_module_version": "1.2.0",
            "_view_name": "StyleView",
            "description_width": ""
          }
        },
        "3c40fe9c7c474d8b8b7788778aeeed8d": {
          "model_module": "@jupyter-widgets/controls",
          "model_name": "HBoxModel",
          "model_module_version": "1.5.0",
          "state": {
            "_dom_classes": [],
            "_model_module": "@jupyter-widgets/controls",
            "_model_module_version": "1.5.0",
            "_model_name": "HBoxModel",
            "_view_count": null,
            "_view_module": "@jupyter-widgets/controls",
            "_view_module_version": "1.5.0",
            "_view_name": "HBoxView",
            "box_style": "",
            "children": [
              "IPY_MODEL_6857b864cd4a4b8b81c279c30fa19525",
              "IPY_MODEL_ab7ab04d41f14286a401d6d1125732e9",
              "IPY_MODEL_f73401cee3774c7d90ba353b0383f8c2"
            ],
            "layout": "IPY_MODEL_fdb31bfaa4e1425c9f673aa838337b6d"
          }
        },
        "6857b864cd4a4b8b81c279c30fa19525": {
          "model_module": "@jupyter-widgets/controls",
          "model_name": "HTMLModel",
          "model_module_version": "1.5.0",
          "state": {
            "_dom_classes": [],
            "_model_module": "@jupyter-widgets/controls",
            "_model_module_version": "1.5.0",
            "_model_name": "HTMLModel",
            "_view_count": null,
            "_view_module": "@jupyter-widgets/controls",
            "_view_module_version": "1.5.0",
            "_view_name": "HTMLView",
            "description": "",
            "description_tooltip": null,
            "layout": "IPY_MODEL_12bb3a5e9f344719b27d95c8b22aa9cc",
            "placeholder": "​",
            "style": "IPY_MODEL_7c3a879110d548b492fbcdc9ce10d295",
            "value": "generation_config.json: 100%"
          }
        },
        "ab7ab04d41f14286a401d6d1125732e9": {
          "model_module": "@jupyter-widgets/controls",
          "model_name": "FloatProgressModel",
          "model_module_version": "1.5.0",
          "state": {
            "_dom_classes": [],
            "_model_module": "@jupyter-widgets/controls",
            "_model_module_version": "1.5.0",
            "_model_name": "FloatProgressModel",
            "_view_count": null,
            "_view_module": "@jupyter-widgets/controls",
            "_view_module_version": "1.5.0",
            "_view_name": "ProgressView",
            "bar_style": "success",
            "description": "",
            "description_tooltip": null,
            "layout": "IPY_MODEL_467bd5e5113a49a4be6755248d7790d2",
            "max": 180,
            "min": 0,
            "orientation": "horizontal",
            "style": "IPY_MODEL_53c45c93229d42229c75c57d8a7ad865",
            "value": 180
          }
        },
        "f73401cee3774c7d90ba353b0383f8c2": {
          "model_module": "@jupyter-widgets/controls",
          "model_name": "HTMLModel",
          "model_module_version": "1.5.0",
          "state": {
            "_dom_classes": [],
            "_model_module": "@jupyter-widgets/controls",
            "_model_module_version": "1.5.0",
            "_model_name": "HTMLModel",
            "_view_count": null,
            "_view_module": "@jupyter-widgets/controls",
            "_view_module_version": "1.5.0",
            "_view_name": "HTMLView",
            "description": "",
            "description_tooltip": null,
            "layout": "IPY_MODEL_686d1a1bcabc4d2b917beb3c11ec959a",
            "placeholder": "​",
            "style": "IPY_MODEL_03784539bf684f89a906d5f3a3ac6b10",
            "value": " 180/180 [00:00&lt;00:00, 16.2kB/s]"
          }
        },
        "fdb31bfaa4e1425c9f673aa838337b6d": {
          "model_module": "@jupyter-widgets/base",
          "model_name": "LayoutModel",
          "model_module_version": "1.2.0",
          "state": {
            "_model_module": "@jupyter-widgets/base",
            "_model_module_version": "1.2.0",
            "_model_name": "LayoutModel",
            "_view_count": null,
            "_view_module": "@jupyter-widgets/base",
            "_view_module_version": "1.2.0",
            "_view_name": "LayoutView",
            "align_content": null,
            "align_items": null,
            "align_self": null,
            "border": null,
            "bottom": null,
            "display": null,
            "flex": null,
            "flex_flow": null,
            "grid_area": null,
            "grid_auto_columns": null,
            "grid_auto_flow": null,
            "grid_auto_rows": null,
            "grid_column": null,
            "grid_gap": null,
            "grid_row": null,
            "grid_template_areas": null,
            "grid_template_columns": null,
            "grid_template_rows": null,
            "height": null,
            "justify_content": null,
            "justify_items": null,
            "left": null,
            "margin": null,
            "max_height": null,
            "max_width": null,
            "min_height": null,
            "min_width": null,
            "object_fit": null,
            "object_position": null,
            "order": null,
            "overflow": null,
            "overflow_x": null,
            "overflow_y": null,
            "padding": null,
            "right": null,
            "top": null,
            "visibility": null,
            "width": null
          }
        },
        "12bb3a5e9f344719b27d95c8b22aa9cc": {
          "model_module": "@jupyter-widgets/base",
          "model_name": "LayoutModel",
          "model_module_version": "1.2.0",
          "state": {
            "_model_module": "@jupyter-widgets/base",
            "_model_module_version": "1.2.0",
            "_model_name": "LayoutModel",
            "_view_count": null,
            "_view_module": "@jupyter-widgets/base",
            "_view_module_version": "1.2.0",
            "_view_name": "LayoutView",
            "align_content": null,
            "align_items": null,
            "align_self": null,
            "border": null,
            "bottom": null,
            "display": null,
            "flex": null,
            "flex_flow": null,
            "grid_area": null,
            "grid_auto_columns": null,
            "grid_auto_flow": null,
            "grid_auto_rows": null,
            "grid_column": null,
            "grid_gap": null,
            "grid_row": null,
            "grid_template_areas": null,
            "grid_template_columns": null,
            "grid_template_rows": null,
            "height": null,
            "justify_content": null,
            "justify_items": null,
            "left": null,
            "margin": null,
            "max_height": null,
            "max_width": null,
            "min_height": null,
            "min_width": null,
            "object_fit": null,
            "object_position": null,
            "order": null,
            "overflow": null,
            "overflow_x": null,
            "overflow_y": null,
            "padding": null,
            "right": null,
            "top": null,
            "visibility": null,
            "width": null
          }
        },
        "7c3a879110d548b492fbcdc9ce10d295": {
          "model_module": "@jupyter-widgets/controls",
          "model_name": "DescriptionStyleModel",
          "model_module_version": "1.5.0",
          "state": {
            "_model_module": "@jupyter-widgets/controls",
            "_model_module_version": "1.5.0",
            "_model_name": "DescriptionStyleModel",
            "_view_count": null,
            "_view_module": "@jupyter-widgets/base",
            "_view_module_version": "1.2.0",
            "_view_name": "StyleView",
            "description_width": ""
          }
        },
        "467bd5e5113a49a4be6755248d7790d2": {
          "model_module": "@jupyter-widgets/base",
          "model_name": "LayoutModel",
          "model_module_version": "1.2.0",
          "state": {
            "_model_module": "@jupyter-widgets/base",
            "_model_module_version": "1.2.0",
            "_model_name": "LayoutModel",
            "_view_count": null,
            "_view_module": "@jupyter-widgets/base",
            "_view_module_version": "1.2.0",
            "_view_name": "LayoutView",
            "align_content": null,
            "align_items": null,
            "align_self": null,
            "border": null,
            "bottom": null,
            "display": null,
            "flex": null,
            "flex_flow": null,
            "grid_area": null,
            "grid_auto_columns": null,
            "grid_auto_flow": null,
            "grid_auto_rows": null,
            "grid_column": null,
            "grid_gap": null,
            "grid_row": null,
            "grid_template_areas": null,
            "grid_template_columns": null,
            "grid_template_rows": null,
            "height": null,
            "justify_content": null,
            "justify_items": null,
            "left": null,
            "margin": null,
            "max_height": null,
            "max_width": null,
            "min_height": null,
            "min_width": null,
            "object_fit": null,
            "object_position": null,
            "order": null,
            "overflow": null,
            "overflow_x": null,
            "overflow_y": null,
            "padding": null,
            "right": null,
            "top": null,
            "visibility": null,
            "width": null
          }
        },
        "53c45c93229d42229c75c57d8a7ad865": {
          "model_module": "@jupyter-widgets/controls",
          "model_name": "ProgressStyleModel",
          "model_module_version": "1.5.0",
          "state": {
            "_model_module": "@jupyter-widgets/controls",
            "_model_module_version": "1.5.0",
            "_model_name": "ProgressStyleModel",
            "_view_count": null,
            "_view_module": "@jupyter-widgets/base",
            "_view_module_version": "1.2.0",
            "_view_name": "StyleView",
            "bar_color": null,
            "description_width": ""
          }
        },
        "686d1a1bcabc4d2b917beb3c11ec959a": {
          "model_module": "@jupyter-widgets/base",
          "model_name": "LayoutModel",
          "model_module_version": "1.2.0",
          "state": {
            "_model_module": "@jupyter-widgets/base",
            "_model_module_version": "1.2.0",
            "_model_name": "LayoutModel",
            "_view_count": null,
            "_view_module": "@jupyter-widgets/base",
            "_view_module_version": "1.2.0",
            "_view_name": "LayoutView",
            "align_content": null,
            "align_items": null,
            "align_self": null,
            "border": null,
            "bottom": null,
            "display": null,
            "flex": null,
            "flex_flow": null,
            "grid_area": null,
            "grid_auto_columns": null,
            "grid_auto_flow": null,
            "grid_auto_rows": null,
            "grid_column": null,
            "grid_gap": null,
            "grid_row": null,
            "grid_template_areas": null,
            "grid_template_columns": null,
            "grid_template_rows": null,
            "height": null,
            "justify_content": null,
            "justify_items": null,
            "left": null,
            "margin": null,
            "max_height": null,
            "max_width": null,
            "min_height": null,
            "min_width": null,
            "object_fit": null,
            "object_position": null,
            "order": null,
            "overflow": null,
            "overflow_x": null,
            "overflow_y": null,
            "padding": null,
            "right": null,
            "top": null,
            "visibility": null,
            "width": null
          }
        },
        "03784539bf684f89a906d5f3a3ac6b10": {
          "model_module": "@jupyter-widgets/controls",
          "model_name": "DescriptionStyleModel",
          "model_module_version": "1.5.0",
          "state": {
            "_model_module": "@jupyter-widgets/controls",
            "_model_module_version": "1.5.0",
            "_model_name": "DescriptionStyleModel",
            "_view_count": null,
            "_view_module": "@jupyter-widgets/base",
            "_view_module_version": "1.2.0",
            "_view_name": "StyleView",
            "description_width": ""
          }
        },
        "e1e34170998c4bc18d514463ca5ae362": {
          "model_module": "@jupyter-widgets/controls",
          "model_name": "HBoxModel",
          "model_module_version": "1.5.0",
          "state": {
            "_dom_classes": [],
            "_model_module": "@jupyter-widgets/controls",
            "_model_module_version": "1.5.0",
            "_model_name": "HBoxModel",
            "_view_count": null,
            "_view_module": "@jupyter-widgets/controls",
            "_view_module_version": "1.5.0",
            "_view_name": "HBoxView",
            "box_style": "",
            "children": [
              "IPY_MODEL_644084997f384a34a217603b9890cd43",
              "IPY_MODEL_80b931e1dfbb4d299e238c57bb60e4c3",
              "IPY_MODEL_39cd9178dacc4689b9abcabd206ed721"
            ],
            "layout": "IPY_MODEL_9cb763c8906c4cdca5ff7c7c38c7530e"
          }
        },
        "644084997f384a34a217603b9890cd43": {
          "model_module": "@jupyter-widgets/controls",
          "model_name": "HTMLModel",
          "model_module_version": "1.5.0",
          "state": {
            "_dom_classes": [],
            "_model_module": "@jupyter-widgets/controls",
            "_model_module_version": "1.5.0",
            "_model_name": "HTMLModel",
            "_view_count": null,
            "_view_module": "@jupyter-widgets/controls",
            "_view_module_version": "1.5.0",
            "_view_name": "HTMLView",
            "description": "",
            "description_tooltip": null,
            "layout": "IPY_MODEL_f657f73ba9da445493eab226c56588ea",
            "placeholder": "​",
            "style": "IPY_MODEL_426f7bf1784549db85a6b2f50562f7db",
            "value": "tokenizer_config.json: 100%"
          }
        },
        "80b931e1dfbb4d299e238c57bb60e4c3": {
          "model_module": "@jupyter-widgets/controls",
          "model_name": "FloatProgressModel",
          "model_module_version": "1.5.0",
          "state": {
            "_dom_classes": [],
            "_model_module": "@jupyter-widgets/controls",
            "_model_module_version": "1.5.0",
            "_model_name": "FloatProgressModel",
            "_view_count": null,
            "_view_module": "@jupyter-widgets/controls",
            "_view_module_version": "1.5.0",
            "_view_name": "ProgressView",
            "bar_style": "success",
            "description": "",
            "description_tooltip": null,
            "layout": "IPY_MODEL_d049cb6af70640d8a49653a622f39cba",
            "max": 50534,
            "min": 0,
            "orientation": "horizontal",
            "style": "IPY_MODEL_1fcab37f12f64529aae592edf6899d2f",
            "value": 50534
          }
        },
        "39cd9178dacc4689b9abcabd206ed721": {
          "model_module": "@jupyter-widgets/controls",
          "model_name": "HTMLModel",
          "model_module_version": "1.5.0",
          "state": {
            "_dom_classes": [],
            "_model_module": "@jupyter-widgets/controls",
            "_model_module_version": "1.5.0",
            "_model_name": "HTMLModel",
            "_view_count": null,
            "_view_module": "@jupyter-widgets/controls",
            "_view_module_version": "1.5.0",
            "_view_name": "HTMLView",
            "description": "",
            "description_tooltip": null,
            "layout": "IPY_MODEL_2835f4fe5e4d4c0092c57b430a3ebe06",
            "placeholder": "​",
            "style": "IPY_MODEL_8eab4a49874e47dba39eb10419e682af",
            "value": " 50.5k/50.5k [00:00&lt;00:00, 3.36MB/s]"
          }
        },
        "9cb763c8906c4cdca5ff7c7c38c7530e": {
          "model_module": "@jupyter-widgets/base",
          "model_name": "LayoutModel",
          "model_module_version": "1.2.0",
          "state": {
            "_model_module": "@jupyter-widgets/base",
            "_model_module_version": "1.2.0",
            "_model_name": "LayoutModel",
            "_view_count": null,
            "_view_module": "@jupyter-widgets/base",
            "_view_module_version": "1.2.0",
            "_view_name": "LayoutView",
            "align_content": null,
            "align_items": null,
            "align_self": null,
            "border": null,
            "bottom": null,
            "display": null,
            "flex": null,
            "flex_flow": null,
            "grid_area": null,
            "grid_auto_columns": null,
            "grid_auto_flow": null,
            "grid_auto_rows": null,
            "grid_column": null,
            "grid_gap": null,
            "grid_row": null,
            "grid_template_areas": null,
            "grid_template_columns": null,
            "grid_template_rows": null,
            "height": null,
            "justify_content": null,
            "justify_items": null,
            "left": null,
            "margin": null,
            "max_height": null,
            "max_width": null,
            "min_height": null,
            "min_width": null,
            "object_fit": null,
            "object_position": null,
            "order": null,
            "overflow": null,
            "overflow_x": null,
            "overflow_y": null,
            "padding": null,
            "right": null,
            "top": null,
            "visibility": null,
            "width": null
          }
        },
        "f657f73ba9da445493eab226c56588ea": {
          "model_module": "@jupyter-widgets/base",
          "model_name": "LayoutModel",
          "model_module_version": "1.2.0",
          "state": {
            "_model_module": "@jupyter-widgets/base",
            "_model_module_version": "1.2.0",
            "_model_name": "LayoutModel",
            "_view_count": null,
            "_view_module": "@jupyter-widgets/base",
            "_view_module_version": "1.2.0",
            "_view_name": "LayoutView",
            "align_content": null,
            "align_items": null,
            "align_self": null,
            "border": null,
            "bottom": null,
            "display": null,
            "flex": null,
            "flex_flow": null,
            "grid_area": null,
            "grid_auto_columns": null,
            "grid_auto_flow": null,
            "grid_auto_rows": null,
            "grid_column": null,
            "grid_gap": null,
            "grid_row": null,
            "grid_template_areas": null,
            "grid_template_columns": null,
            "grid_template_rows": null,
            "height": null,
            "justify_content": null,
            "justify_items": null,
            "left": null,
            "margin": null,
            "max_height": null,
            "max_width": null,
            "min_height": null,
            "min_width": null,
            "object_fit": null,
            "object_position": null,
            "order": null,
            "overflow": null,
            "overflow_x": null,
            "overflow_y": null,
            "padding": null,
            "right": null,
            "top": null,
            "visibility": null,
            "width": null
          }
        },
        "426f7bf1784549db85a6b2f50562f7db": {
          "model_module": "@jupyter-widgets/controls",
          "model_name": "DescriptionStyleModel",
          "model_module_version": "1.5.0",
          "state": {
            "_model_module": "@jupyter-widgets/controls",
            "_model_module_version": "1.5.0",
            "_model_name": "DescriptionStyleModel",
            "_view_count": null,
            "_view_module": "@jupyter-widgets/base",
            "_view_module_version": "1.2.0",
            "_view_name": "StyleView",
            "description_width": ""
          }
        },
        "d049cb6af70640d8a49653a622f39cba": {
          "model_module": "@jupyter-widgets/base",
          "model_name": "LayoutModel",
          "model_module_version": "1.2.0",
          "state": {
            "_model_module": "@jupyter-widgets/base",
            "_model_module_version": "1.2.0",
            "_model_name": "LayoutModel",
            "_view_count": null,
            "_view_module": "@jupyter-widgets/base",
            "_view_module_version": "1.2.0",
            "_view_name": "LayoutView",
            "align_content": null,
            "align_items": null,
            "align_self": null,
            "border": null,
            "bottom": null,
            "display": null,
            "flex": null,
            "flex_flow": null,
            "grid_area": null,
            "grid_auto_columns": null,
            "grid_auto_flow": null,
            "grid_auto_rows": null,
            "grid_column": null,
            "grid_gap": null,
            "grid_row": null,
            "grid_template_areas": null,
            "grid_template_columns": null,
            "grid_template_rows": null,
            "height": null,
            "justify_content": null,
            "justify_items": null,
            "left": null,
            "margin": null,
            "max_height": null,
            "max_width": null,
            "min_height": null,
            "min_width": null,
            "object_fit": null,
            "object_position": null,
            "order": null,
            "overflow": null,
            "overflow_x": null,
            "overflow_y": null,
            "padding": null,
            "right": null,
            "top": null,
            "visibility": null,
            "width": null
          }
        },
        "1fcab37f12f64529aae592edf6899d2f": {
          "model_module": "@jupyter-widgets/controls",
          "model_name": "ProgressStyleModel",
          "model_module_version": "1.5.0",
          "state": {
            "_model_module": "@jupyter-widgets/controls",
            "_model_module_version": "1.5.0",
            "_model_name": "ProgressStyleModel",
            "_view_count": null,
            "_view_module": "@jupyter-widgets/base",
            "_view_module_version": "1.2.0",
            "_view_name": "StyleView",
            "bar_color": null,
            "description_width": ""
          }
        },
        "2835f4fe5e4d4c0092c57b430a3ebe06": {
          "model_module": "@jupyter-widgets/base",
          "model_name": "LayoutModel",
          "model_module_version": "1.2.0",
          "state": {
            "_model_module": "@jupyter-widgets/base",
            "_model_module_version": "1.2.0",
            "_model_name": "LayoutModel",
            "_view_count": null,
            "_view_module": "@jupyter-widgets/base",
            "_view_module_version": "1.2.0",
            "_view_name": "LayoutView",
            "align_content": null,
            "align_items": null,
            "align_self": null,
            "border": null,
            "bottom": null,
            "display": null,
            "flex": null,
            "flex_flow": null,
            "grid_area": null,
            "grid_auto_columns": null,
            "grid_auto_flow": null,
            "grid_auto_rows": null,
            "grid_column": null,
            "grid_gap": null,
            "grid_row": null,
            "grid_template_areas": null,
            "grid_template_columns": null,
            "grid_template_rows": null,
            "height": null,
            "justify_content": null,
            "justify_items": null,
            "left": null,
            "margin": null,
            "max_height": null,
            "max_width": null,
            "min_height": null,
            "min_width": null,
            "object_fit": null,
            "object_position": null,
            "order": null,
            "overflow": null,
            "overflow_x": null,
            "overflow_y": null,
            "padding": null,
            "right": null,
            "top": null,
            "visibility": null,
            "width": null
          }
        },
        "8eab4a49874e47dba39eb10419e682af": {
          "model_module": "@jupyter-widgets/controls",
          "model_name": "DescriptionStyleModel",
          "model_module_version": "1.5.0",
          "state": {
            "_model_module": "@jupyter-widgets/controls",
            "_model_module_version": "1.5.0",
            "_model_name": "DescriptionStyleModel",
            "_view_count": null,
            "_view_module": "@jupyter-widgets/base",
            "_view_module_version": "1.2.0",
            "_view_name": "StyleView",
            "description_width": ""
          }
        },
        "61786092b6db4507b33a0eb78a753867": {
          "model_module": "@jupyter-widgets/controls",
          "model_name": "HBoxModel",
          "model_module_version": "1.5.0",
          "state": {
            "_dom_classes": [],
            "_model_module": "@jupyter-widgets/controls",
            "_model_module_version": "1.5.0",
            "_model_name": "HBoxModel",
            "_view_count": null,
            "_view_module": "@jupyter-widgets/controls",
            "_view_module_version": "1.5.0",
            "_view_name": "HBoxView",
            "box_style": "",
            "children": [
              "IPY_MODEL_abe27231ae334abd9baec5038759894d",
              "IPY_MODEL_ce9c8a9ee6c746748bb792e33e92e7f9",
              "IPY_MODEL_e9e678f055b94935b843d67eab83a075"
            ],
            "layout": "IPY_MODEL_6e222963172e4b2fb56ddaaa9f349a59"
          }
        },
        "abe27231ae334abd9baec5038759894d": {
          "model_module": "@jupyter-widgets/controls",
          "model_name": "HTMLModel",
          "model_module_version": "1.5.0",
          "state": {
            "_dom_classes": [],
            "_model_module": "@jupyter-widgets/controls",
            "_model_module_version": "1.5.0",
            "_model_name": "HTMLModel",
            "_view_count": null,
            "_view_module": "@jupyter-widgets/controls",
            "_view_module_version": "1.5.0",
            "_view_name": "HTMLView",
            "description": "",
            "description_tooltip": null,
            "layout": "IPY_MODEL_7014fed745e645f18c1eda3f25044591",
            "placeholder": "​",
            "style": "IPY_MODEL_956c73c82fbb42ccbce4f18637dadd3a",
            "value": "tokenizer.json: 100%"
          }
        },
        "ce9c8a9ee6c746748bb792e33e92e7f9": {
          "model_module": "@jupyter-widgets/controls",
          "model_name": "FloatProgressModel",
          "model_module_version": "1.5.0",
          "state": {
            "_dom_classes": [],
            "_model_module": "@jupyter-widgets/controls",
            "_model_module_version": "1.5.0",
            "_model_name": "FloatProgressModel",
            "_view_count": null,
            "_view_module": "@jupyter-widgets/controls",
            "_view_module_version": "1.5.0",
            "_view_name": "ProgressView",
            "bar_style": "success",
            "description": "",
            "description_tooltip": null,
            "layout": "IPY_MODEL_94c4503ad3c64c06aab035931cdeb109",
            "max": 9085657,
            "min": 0,
            "orientation": "horizontal",
            "style": "IPY_MODEL_a8cabf46fd7c4c74a9d020aeae3765a2",
            "value": 9085657
          }
        },
        "e9e678f055b94935b843d67eab83a075": {
          "model_module": "@jupyter-widgets/controls",
          "model_name": "HTMLModel",
          "model_module_version": "1.5.0",
          "state": {
            "_dom_classes": [],
            "_model_module": "@jupyter-widgets/controls",
            "_model_module_version": "1.5.0",
            "_model_name": "HTMLModel",
            "_view_count": null,
            "_view_module": "@jupyter-widgets/controls",
            "_view_module_version": "1.5.0",
            "_view_name": "HTMLView",
            "description": "",
            "description_tooltip": null,
            "layout": "IPY_MODEL_fc3823e7ef284f05961906cdde9f6db9",
            "placeholder": "​",
            "style": "IPY_MODEL_23b7cc5e564646d3a8fa834283b4e634",
            "value": " 9.09M/9.09M [00:00&lt;00:00, 19.6MB/s]"
          }
        },
        "6e222963172e4b2fb56ddaaa9f349a59": {
          "model_module": "@jupyter-widgets/base",
          "model_name": "LayoutModel",
          "model_module_version": "1.2.0",
          "state": {
            "_model_module": "@jupyter-widgets/base",
            "_model_module_version": "1.2.0",
            "_model_name": "LayoutModel",
            "_view_count": null,
            "_view_module": "@jupyter-widgets/base",
            "_view_module_version": "1.2.0",
            "_view_name": "LayoutView",
            "align_content": null,
            "align_items": null,
            "align_self": null,
            "border": null,
            "bottom": null,
            "display": null,
            "flex": null,
            "flex_flow": null,
            "grid_area": null,
            "grid_auto_columns": null,
            "grid_auto_flow": null,
            "grid_auto_rows": null,
            "grid_column": null,
            "grid_gap": null,
            "grid_row": null,
            "grid_template_areas": null,
            "grid_template_columns": null,
            "grid_template_rows": null,
            "height": null,
            "justify_content": null,
            "justify_items": null,
            "left": null,
            "margin": null,
            "max_height": null,
            "max_width": null,
            "min_height": null,
            "min_width": null,
            "object_fit": null,
            "object_position": null,
            "order": null,
            "overflow": null,
            "overflow_x": null,
            "overflow_y": null,
            "padding": null,
            "right": null,
            "top": null,
            "visibility": null,
            "width": null
          }
        },
        "7014fed745e645f18c1eda3f25044591": {
          "model_module": "@jupyter-widgets/base",
          "model_name": "LayoutModel",
          "model_module_version": "1.2.0",
          "state": {
            "_model_module": "@jupyter-widgets/base",
            "_model_module_version": "1.2.0",
            "_model_name": "LayoutModel",
            "_view_count": null,
            "_view_module": "@jupyter-widgets/base",
            "_view_module_version": "1.2.0",
            "_view_name": "LayoutView",
            "align_content": null,
            "align_items": null,
            "align_self": null,
            "border": null,
            "bottom": null,
            "display": null,
            "flex": null,
            "flex_flow": null,
            "grid_area": null,
            "grid_auto_columns": null,
            "grid_auto_flow": null,
            "grid_auto_rows": null,
            "grid_column": null,
            "grid_gap": null,
            "grid_row": null,
            "grid_template_areas": null,
            "grid_template_columns": null,
            "grid_template_rows": null,
            "height": null,
            "justify_content": null,
            "justify_items": null,
            "left": null,
            "margin": null,
            "max_height": null,
            "max_width": null,
            "min_height": null,
            "min_width": null,
            "object_fit": null,
            "object_position": null,
            "order": null,
            "overflow": null,
            "overflow_x": null,
            "overflow_y": null,
            "padding": null,
            "right": null,
            "top": null,
            "visibility": null,
            "width": null
          }
        },
        "956c73c82fbb42ccbce4f18637dadd3a": {
          "model_module": "@jupyter-widgets/controls",
          "model_name": "DescriptionStyleModel",
          "model_module_version": "1.5.0",
          "state": {
            "_model_module": "@jupyter-widgets/controls",
            "_model_module_version": "1.5.0",
            "_model_name": "DescriptionStyleModel",
            "_view_count": null,
            "_view_module": "@jupyter-widgets/base",
            "_view_module_version": "1.2.0",
            "_view_name": "StyleView",
            "description_width": ""
          }
        },
        "94c4503ad3c64c06aab035931cdeb109": {
          "model_module": "@jupyter-widgets/base",
          "model_name": "LayoutModel",
          "model_module_version": "1.2.0",
          "state": {
            "_model_module": "@jupyter-widgets/base",
            "_model_module_version": "1.2.0",
            "_model_name": "LayoutModel",
            "_view_count": null,
            "_view_module": "@jupyter-widgets/base",
            "_view_module_version": "1.2.0",
            "_view_name": "LayoutView",
            "align_content": null,
            "align_items": null,
            "align_self": null,
            "border": null,
            "bottom": null,
            "display": null,
            "flex": null,
            "flex_flow": null,
            "grid_area": null,
            "grid_auto_columns": null,
            "grid_auto_flow": null,
            "grid_auto_rows": null,
            "grid_column": null,
            "grid_gap": null,
            "grid_row": null,
            "grid_template_areas": null,
            "grid_template_columns": null,
            "grid_template_rows": null,
            "height": null,
            "justify_content": null,
            "justify_items": null,
            "left": null,
            "margin": null,
            "max_height": null,
            "max_width": null,
            "min_height": null,
            "min_width": null,
            "object_fit": null,
            "object_position": null,
            "order": null,
            "overflow": null,
            "overflow_x": null,
            "overflow_y": null,
            "padding": null,
            "right": null,
            "top": null,
            "visibility": null,
            "width": null
          }
        },
        "a8cabf46fd7c4c74a9d020aeae3765a2": {
          "model_module": "@jupyter-widgets/controls",
          "model_name": "ProgressStyleModel",
          "model_module_version": "1.5.0",
          "state": {
            "_model_module": "@jupyter-widgets/controls",
            "_model_module_version": "1.5.0",
            "_model_name": "ProgressStyleModel",
            "_view_count": null,
            "_view_module": "@jupyter-widgets/base",
            "_view_module_version": "1.2.0",
            "_view_name": "StyleView",
            "bar_color": null,
            "description_width": ""
          }
        },
        "fc3823e7ef284f05961906cdde9f6db9": {
          "model_module": "@jupyter-widgets/base",
          "model_name": "LayoutModel",
          "model_module_version": "1.2.0",
          "state": {
            "_model_module": "@jupyter-widgets/base",
            "_model_module_version": "1.2.0",
            "_model_name": "LayoutModel",
            "_view_count": null,
            "_view_module": "@jupyter-widgets/base",
            "_view_module_version": "1.2.0",
            "_view_name": "LayoutView",
            "align_content": null,
            "align_items": null,
            "align_self": null,
            "border": null,
            "bottom": null,
            "display": null,
            "flex": null,
            "flex_flow": null,
            "grid_area": null,
            "grid_auto_columns": null,
            "grid_auto_flow": null,
            "grid_auto_rows": null,
            "grid_column": null,
            "grid_gap": null,
            "grid_row": null,
            "grid_template_areas": null,
            "grid_template_columns": null,
            "grid_template_rows": null,
            "height": null,
            "justify_content": null,
            "justify_items": null,
            "left": null,
            "margin": null,
            "max_height": null,
            "max_width": null,
            "min_height": null,
            "min_width": null,
            "object_fit": null,
            "object_position": null,
            "order": null,
            "overflow": null,
            "overflow_x": null,
            "overflow_y": null,
            "padding": null,
            "right": null,
            "top": null,
            "visibility": null,
            "width": null
          }
        },
        "23b7cc5e564646d3a8fa834283b4e634": {
          "model_module": "@jupyter-widgets/controls",
          "model_name": "DescriptionStyleModel",
          "model_module_version": "1.5.0",
          "state": {
            "_model_module": "@jupyter-widgets/controls",
            "_model_module_version": "1.5.0",
            "_model_name": "DescriptionStyleModel",
            "_view_count": null,
            "_view_module": "@jupyter-widgets/base",
            "_view_module_version": "1.2.0",
            "_view_name": "StyleView",
            "description_width": ""
          }
        },
        "cf8dae331db34a829d62ac0b783782a7": {
          "model_module": "@jupyter-widgets/controls",
          "model_name": "HBoxModel",
          "model_module_version": "1.5.0",
          "state": {
            "_dom_classes": [],
            "_model_module": "@jupyter-widgets/controls",
            "_model_module_version": "1.5.0",
            "_model_name": "HBoxModel",
            "_view_count": null,
            "_view_module": "@jupyter-widgets/controls",
            "_view_module_version": "1.5.0",
            "_view_name": "HBoxView",
            "box_style": "",
            "children": [
              "IPY_MODEL_e52d325ea4d74575b62f5994d1363cc7",
              "IPY_MODEL_9417b5078a9d45b6a6d6a023439a2040",
              "IPY_MODEL_f9d55dd8aaeb4163b549f54e18940530"
            ],
            "layout": "IPY_MODEL_8ee152ad235d4b19a76f79c3f3cc2610"
          }
        },
        "e52d325ea4d74575b62f5994d1363cc7": {
          "model_module": "@jupyter-widgets/controls",
          "model_name": "HTMLModel",
          "model_module_version": "1.5.0",
          "state": {
            "_dom_classes": [],
            "_model_module": "@jupyter-widgets/controls",
            "_model_module_version": "1.5.0",
            "_model_name": "HTMLModel",
            "_view_count": null,
            "_view_module": "@jupyter-widgets/controls",
            "_view_module_version": "1.5.0",
            "_view_name": "HTMLView",
            "description": "",
            "description_tooltip": null,
            "layout": "IPY_MODEL_ca96ebc23ce34b2aab98b0868bb776bf",
            "placeholder": "​",
            "style": "IPY_MODEL_d5f3151a546e45df84969ad43c269d89",
            "value": "special_tokens_map.json: 100%"
          }
        },
        "9417b5078a9d45b6a6d6a023439a2040": {
          "model_module": "@jupyter-widgets/controls",
          "model_name": "FloatProgressModel",
          "model_module_version": "1.5.0",
          "state": {
            "_dom_classes": [],
            "_model_module": "@jupyter-widgets/controls",
            "_model_module_version": "1.5.0",
            "_model_name": "FloatProgressModel",
            "_view_count": null,
            "_view_module": "@jupyter-widgets/controls",
            "_view_module_version": "1.5.0",
            "_view_name": "ProgressView",
            "bar_style": "success",
            "description": "",
            "description_tooltip": null,
            "layout": "IPY_MODEL_516aadbc50e24193afa5969dbdf6755a",
            "max": 335,
            "min": 0,
            "orientation": "horizontal",
            "style": "IPY_MODEL_818706f1d06f4859a632df9a54d466a8",
            "value": 335
          }
        },
        "f9d55dd8aaeb4163b549f54e18940530": {
          "model_module": "@jupyter-widgets/controls",
          "model_name": "HTMLModel",
          "model_module_version": "1.5.0",
          "state": {
            "_dom_classes": [],
            "_model_module": "@jupyter-widgets/controls",
            "_model_module_version": "1.5.0",
            "_model_name": "HTMLModel",
            "_view_count": null,
            "_view_module": "@jupyter-widgets/controls",
            "_view_module_version": "1.5.0",
            "_view_name": "HTMLView",
            "description": "",
            "description_tooltip": null,
            "layout": "IPY_MODEL_b6385bbb29e144ae81e13fbf2d89bbf6",
            "placeholder": "​",
            "style": "IPY_MODEL_d3ff7a8030a642f09c83b68bbcbd72b6",
            "value": " 335/335 [00:00&lt;00:00, 30.9kB/s]"
          }
        },
        "8ee152ad235d4b19a76f79c3f3cc2610": {
          "model_module": "@jupyter-widgets/base",
          "model_name": "LayoutModel",
          "model_module_version": "1.2.0",
          "state": {
            "_model_module": "@jupyter-widgets/base",
            "_model_module_version": "1.2.0",
            "_model_name": "LayoutModel",
            "_view_count": null,
            "_view_module": "@jupyter-widgets/base",
            "_view_module_version": "1.2.0",
            "_view_name": "LayoutView",
            "align_content": null,
            "align_items": null,
            "align_self": null,
            "border": null,
            "bottom": null,
            "display": null,
            "flex": null,
            "flex_flow": null,
            "grid_area": null,
            "grid_auto_columns": null,
            "grid_auto_flow": null,
            "grid_auto_rows": null,
            "grid_column": null,
            "grid_gap": null,
            "grid_row": null,
            "grid_template_areas": null,
            "grid_template_columns": null,
            "grid_template_rows": null,
            "height": null,
            "justify_content": null,
            "justify_items": null,
            "left": null,
            "margin": null,
            "max_height": null,
            "max_width": null,
            "min_height": null,
            "min_width": null,
            "object_fit": null,
            "object_position": null,
            "order": null,
            "overflow": null,
            "overflow_x": null,
            "overflow_y": null,
            "padding": null,
            "right": null,
            "top": null,
            "visibility": null,
            "width": null
          }
        },
        "ca96ebc23ce34b2aab98b0868bb776bf": {
          "model_module": "@jupyter-widgets/base",
          "model_name": "LayoutModel",
          "model_module_version": "1.2.0",
          "state": {
            "_model_module": "@jupyter-widgets/base",
            "_model_module_version": "1.2.0",
            "_model_name": "LayoutModel",
            "_view_count": null,
            "_view_module": "@jupyter-widgets/base",
            "_view_module_version": "1.2.0",
            "_view_name": "LayoutView",
            "align_content": null,
            "align_items": null,
            "align_self": null,
            "border": null,
            "bottom": null,
            "display": null,
            "flex": null,
            "flex_flow": null,
            "grid_area": null,
            "grid_auto_columns": null,
            "grid_auto_flow": null,
            "grid_auto_rows": null,
            "grid_column": null,
            "grid_gap": null,
            "grid_row": null,
            "grid_template_areas": null,
            "grid_template_columns": null,
            "grid_template_rows": null,
            "height": null,
            "justify_content": null,
            "justify_items": null,
            "left": null,
            "margin": null,
            "max_height": null,
            "max_width": null,
            "min_height": null,
            "min_width": null,
            "object_fit": null,
            "object_position": null,
            "order": null,
            "overflow": null,
            "overflow_x": null,
            "overflow_y": null,
            "padding": null,
            "right": null,
            "top": null,
            "visibility": null,
            "width": null
          }
        },
        "d5f3151a546e45df84969ad43c269d89": {
          "model_module": "@jupyter-widgets/controls",
          "model_name": "DescriptionStyleModel",
          "model_module_version": "1.5.0",
          "state": {
            "_model_module": "@jupyter-widgets/controls",
            "_model_module_version": "1.5.0",
            "_model_name": "DescriptionStyleModel",
            "_view_count": null,
            "_view_module": "@jupyter-widgets/base",
            "_view_module_version": "1.2.0",
            "_view_name": "StyleView",
            "description_width": ""
          }
        },
        "516aadbc50e24193afa5969dbdf6755a": {
          "model_module": "@jupyter-widgets/base",
          "model_name": "LayoutModel",
          "model_module_version": "1.2.0",
          "state": {
            "_model_module": "@jupyter-widgets/base",
            "_model_module_version": "1.2.0",
            "_model_name": "LayoutModel",
            "_view_count": null,
            "_view_module": "@jupyter-widgets/base",
            "_view_module_version": "1.2.0",
            "_view_name": "LayoutView",
            "align_content": null,
            "align_items": null,
            "align_self": null,
            "border": null,
            "bottom": null,
            "display": null,
            "flex": null,
            "flex_flow": null,
            "grid_area": null,
            "grid_auto_columns": null,
            "grid_auto_flow": null,
            "grid_auto_rows": null,
            "grid_column": null,
            "grid_gap": null,
            "grid_row": null,
            "grid_template_areas": null,
            "grid_template_columns": null,
            "grid_template_rows": null,
            "height": null,
            "justify_content": null,
            "justify_items": null,
            "left": null,
            "margin": null,
            "max_height": null,
            "max_width": null,
            "min_height": null,
            "min_width": null,
            "object_fit": null,
            "object_position": null,
            "order": null,
            "overflow": null,
            "overflow_x": null,
            "overflow_y": null,
            "padding": null,
            "right": null,
            "top": null,
            "visibility": null,
            "width": null
          }
        },
        "818706f1d06f4859a632df9a54d466a8": {
          "model_module": "@jupyter-widgets/controls",
          "model_name": "ProgressStyleModel",
          "model_module_version": "1.5.0",
          "state": {
            "_model_module": "@jupyter-widgets/controls",
            "_model_module_version": "1.5.0",
            "_model_name": "ProgressStyleModel",
            "_view_count": null,
            "_view_module": "@jupyter-widgets/base",
            "_view_module_version": "1.2.0",
            "_view_name": "StyleView",
            "bar_color": null,
            "description_width": ""
          }
        },
        "b6385bbb29e144ae81e13fbf2d89bbf6": {
          "model_module": "@jupyter-widgets/base",
          "model_name": "LayoutModel",
          "model_module_version": "1.2.0",
          "state": {
            "_model_module": "@jupyter-widgets/base",
            "_model_module_version": "1.2.0",
            "_model_name": "LayoutModel",
            "_view_count": null,
            "_view_module": "@jupyter-widgets/base",
            "_view_module_version": "1.2.0",
            "_view_name": "LayoutView",
            "align_content": null,
            "align_items": null,
            "align_self": null,
            "border": null,
            "bottom": null,
            "display": null,
            "flex": null,
            "flex_flow": null,
            "grid_area": null,
            "grid_auto_columns": null,
            "grid_auto_flow": null,
            "grid_auto_rows": null,
            "grid_column": null,
            "grid_gap": null,
            "grid_row": null,
            "grid_template_areas": null,
            "grid_template_columns": null,
            "grid_template_rows": null,
            "height": null,
            "justify_content": null,
            "justify_items": null,
            "left": null,
            "margin": null,
            "max_height": null,
            "max_width": null,
            "min_height": null,
            "min_width": null,
            "object_fit": null,
            "object_position": null,
            "order": null,
            "overflow": null,
            "overflow_x": null,
            "overflow_y": null,
            "padding": null,
            "right": null,
            "top": null,
            "visibility": null,
            "width": null
          }
        },
        "d3ff7a8030a642f09c83b68bbcbd72b6": {
          "model_module": "@jupyter-widgets/controls",
          "model_name": "DescriptionStyleModel",
          "model_module_version": "1.5.0",
          "state": {
            "_model_module": "@jupyter-widgets/controls",
            "_model_module_version": "1.5.0",
            "_model_name": "DescriptionStyleModel",
            "_view_count": null,
            "_view_module": "@jupyter-widgets/base",
            "_view_module_version": "1.2.0",
            "_view_name": "StyleView",
            "description_width": ""
          }
        }
      }
    }
  },
  "nbformat": 4,
  "nbformat_minor": 5
}